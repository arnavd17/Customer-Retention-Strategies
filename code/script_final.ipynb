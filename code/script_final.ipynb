{
  "nbformat": 4,
  "nbformat_minor": 0,
  "metadata": {
    "kernelspec": {
      "display_name": "Python 3",
      "language": "python",
      "name": "python3"
    },
    "language_info": {
      "codemirror_mode": {
        "name": "ipython",
        "version": 3
      },
      "file_extension": ".py",
      "mimetype": "text/x-python",
      "name": "python",
      "nbconvert_exporter": "python",
      "pygments_lexer": "ipython3",
      "version": "3.7.3"
    },
    "colab": {
      "name": "script.ipynb",
      "provenance": [],
      "collapsed_sections": []
    }
  },
  "cells": [
    {
      "cell_type": "code",
      "metadata": {
        "id": "LAFaIpV2IGz9",
        "colab_type": "code",
        "colab": {}
      },
      "source": [
        "import pandas as pd\n",
        "import numpy as np\n",
        "import datetime as dt\n",
        "import tensorflow as tf\n",
        "from tensorflow import feature_column as tfc\n",
        "from six import iteritems"
      ],
      "execution_count": 0,
      "outputs": []
    },
    {
      "cell_type": "code",
      "metadata": {
        "id": "9U3vZD-iIG0R",
        "colab_type": "code",
        "colab": {}
      },
      "source": [
        "data = pd.read_excel(\"Online Retail.xlsx\")\n",
        "data\n",
        "data.columns = [col.lower() for col in data.columns]\n",
        "data = data[data['customerid'].notnull()]"
      ],
      "execution_count": 0,
      "outputs": []
    },
    {
      "cell_type": "code",
      "metadata": {
        "scrolled": true,
        "id": "-XA4U6FNIG0f",
        "colab_type": "code",
        "outputId": "5431c201-1ffd-4a6f-a577-bde8bdb32d97",
        "colab": {
          "base_uri": "https://localhost:8080/",
          "height": 289
        }
      },
      "source": [
        "data.head()"
      ],
      "execution_count": 0,
      "outputs": [
        {
          "output_type": "execute_result",
          "data": {
            "text/html": [
              "<div>\n",
              "<style scoped>\n",
              "    .dataframe tbody tr th:only-of-type {\n",
              "        vertical-align: middle;\n",
              "    }\n",
              "\n",
              "    .dataframe tbody tr th {\n",
              "        vertical-align: top;\n",
              "    }\n",
              "\n",
              "    .dataframe thead th {\n",
              "        text-align: right;\n",
              "    }\n",
              "</style>\n",
              "<table border=\"1\" class=\"dataframe\">\n",
              "  <thead>\n",
              "    <tr style=\"text-align: right;\">\n",
              "      <th></th>\n",
              "      <th>invoiceno</th>\n",
              "      <th>stockcode</th>\n",
              "      <th>description</th>\n",
              "      <th>quantity</th>\n",
              "      <th>invoicedate</th>\n",
              "      <th>unitprice</th>\n",
              "      <th>customerid</th>\n",
              "      <th>country</th>\n",
              "      <th>date</th>\n",
              "      <th>priceqty</th>\n",
              "    </tr>\n",
              "  </thead>\n",
              "  <tbody>\n",
              "    <tr>\n",
              "      <th>0</th>\n",
              "      <td>536365</td>\n",
              "      <td>85123A</td>\n",
              "      <td>WHITE HANGING HEART T-LIGHT HOLDER</td>\n",
              "      <td>6</td>\n",
              "      <td>2010-12-01 08:26:00</td>\n",
              "      <td>2.55</td>\n",
              "      <td>17850.0</td>\n",
              "      <td>United Kingdom</td>\n",
              "      <td>2010-12-01</td>\n",
              "      <td>15.30</td>\n",
              "    </tr>\n",
              "    <tr>\n",
              "      <th>1</th>\n",
              "      <td>536365</td>\n",
              "      <td>71053</td>\n",
              "      <td>WHITE METAL LANTERN</td>\n",
              "      <td>6</td>\n",
              "      <td>2010-12-01 08:26:00</td>\n",
              "      <td>3.39</td>\n",
              "      <td>17850.0</td>\n",
              "      <td>United Kingdom</td>\n",
              "      <td>2010-12-01</td>\n",
              "      <td>20.34</td>\n",
              "    </tr>\n",
              "    <tr>\n",
              "      <th>2</th>\n",
              "      <td>536365</td>\n",
              "      <td>84406B</td>\n",
              "      <td>CREAM CUPID HEARTS COAT HANGER</td>\n",
              "      <td>8</td>\n",
              "      <td>2010-12-01 08:26:00</td>\n",
              "      <td>2.75</td>\n",
              "      <td>17850.0</td>\n",
              "      <td>United Kingdom</td>\n",
              "      <td>2010-12-01</td>\n",
              "      <td>22.00</td>\n",
              "    </tr>\n",
              "    <tr>\n",
              "      <th>3</th>\n",
              "      <td>536365</td>\n",
              "      <td>84029G</td>\n",
              "      <td>KNITTED UNION FLAG HOT WATER BOTTLE</td>\n",
              "      <td>6</td>\n",
              "      <td>2010-12-01 08:26:00</td>\n",
              "      <td>3.39</td>\n",
              "      <td>17850.0</td>\n",
              "      <td>United Kingdom</td>\n",
              "      <td>2010-12-01</td>\n",
              "      <td>20.34</td>\n",
              "    </tr>\n",
              "    <tr>\n",
              "      <th>4</th>\n",
              "      <td>536365</td>\n",
              "      <td>84029E</td>\n",
              "      <td>RED WOOLLY HOTTIE WHITE HEART.</td>\n",
              "      <td>6</td>\n",
              "      <td>2010-12-01 08:26:00</td>\n",
              "      <td>3.39</td>\n",
              "      <td>17850.0</td>\n",
              "      <td>United Kingdom</td>\n",
              "      <td>2010-12-01</td>\n",
              "      <td>20.34</td>\n",
              "    </tr>\n",
              "  </tbody>\n",
              "</table>\n",
              "</div>"
            ],
            "text/plain": [
              "  invoiceno stockcode  ...        date  priceqty\n",
              "0    536365    85123A  ...  2010-12-01     15.30\n",
              "1    536365     71053  ...  2010-12-01     20.34\n",
              "2    536365    84406B  ...  2010-12-01     22.00\n",
              "3    536365    84029G  ...  2010-12-01     20.34\n",
              "4    536365    84029E  ...  2010-12-01     20.34\n",
              "\n",
              "[5 rows x 10 columns]"
            ]
          },
          "metadata": {
            "tags": []
          },
          "execution_count": 22
        }
      ]
    },
    {
      "cell_type": "code",
      "metadata": {
        "id": "wXjZGN7MIG0w",
        "colab_type": "code",
        "colab": {}
      },
      "source": [
        "data['invoicedate'] = pd.to_datetime(data['invoicedate'])\n",
        "data['date'] = data['invoicedate'].dt.date\n",
        "data['priceqty'] = data['unitprice']*data['quantity']"
      ],
      "execution_count": 0,
      "outputs": []
    },
    {
      "cell_type": "markdown",
      "metadata": {
        "id": "M3gUx4M8IG09",
        "colab_type": "text"
      },
      "source": [
        "## Feature Engineering"
      ]
    },
    {
      "cell_type": "code",
      "metadata": {
        "id": "XhLbTV1CIG1A",
        "colab_type": "code",
        "colab": {}
      },
      "source": [
        "threshold_date = dt.date(2011,9,9)\n",
        "predict_date = dt.date(2011,12,9)"
      ],
      "execution_count": 0,
      "outputs": []
    },
    {
      "cell_type": "code",
      "metadata": {
        "id": "kHjHis0nIG1L",
        "colab_type": "code",
        "colab": {}
      },
      "source": [
        "latest_order = data.groupby('customerid').agg({'date':'max'}).reset_index()\n",
        "latest_order.columns = ['customerid','latestorder']\n",
        "\n",
        "t1 = data.groupby(['customerid','date']).agg({'priceqty':'sum','quantity':'sum'}).reset_index()\n",
        "t1 = pd.merge(t1,latest_order,on='customerid',how='left')"
      ],
      "execution_count": 0,
      "outputs": []
    },
    {
      "cell_type": "code",
      "metadata": {
        "id": "UjxSj2fbIG1X",
        "colab_type": "code",
        "colab": {}
      },
      "source": [
        "t2 = data[data['date']<threshold_date]\n",
        "t2 = t2.groupby(['customerid','date']).agg({'priceqty':'sum'}).reset_index()\n",
        "t2['priceqty'] = t2['priceqty'].round(2)\n",
        "t2['flag'] = np.where(t2['priceqty']>0,1,0)\n",
        "t2 = t2.groupby('customerid').agg({'flag':'sum'}).reset_index()\n",
        "t2 = t2[t2['flag']>1]"
      ],
      "execution_count": 0,
      "outputs": []
    },
    {
      "cell_type": "code",
      "metadata": {
        "id": "-rzdWIxpIG1j",
        "colab_type": "code",
        "colab": {}
      },
      "source": [
        "t3 = pd.merge(t1,t2['customerid'],on='customerid',how='inner')\n",
        "t3['datediff'] =  (predict_date - t3['latestorder']).dt.days\n",
        "t3 = t3[(t3['datediff']<=90) & \n",
        "        (((t3['quantity']>0) & (t3['priceqty']>0)) | \n",
        "         ((t3['quantity']<0) & (t3['priceqty']<0)))]        \n",
        "t3 = t3[['customerid','date','priceqty','quantity']]\n",
        "t3.columns = ['customer_id','order_date','order_value','order_qty_articles']"
      ],
      "execution_count": 0,
      "outputs": []
    },
    {
      "cell_type": "code",
      "metadata": {
        "id": "1-Sf3SRAIG1u",
        "colab_type": "code",
        "colab": {}
      },
      "source": [
        "first_order = t3.groupby('customer_id').agg({'order_date':'min'}).reset_index()\n",
        "first_order.columns = ['customer_id','order_date_min']"
      ],
      "execution_count": 0,
      "outputs": []
    },
    {
      "cell_type": "code",
      "metadata": {
        "id": "afYUDLsSIG15",
        "colab_type": "code",
        "colab": {}
      },
      "source": [
        "t4 = pd.merge(t3,first_order,on='customer_id',how='inner')\n",
        "t4['order_value_btyd'] = np.where(t4['order_date_min']==t4['order_date'],0,t4['order_value'])\n",
        "t4 = t4[t4['order_date']<=threshold_date]"
      ],
      "execution_count": 0,
      "outputs": []
    },
    {
      "cell_type": "code",
      "metadata": {
        "id": "nzyphrJ5IG2E",
        "colab_type": "code",
        "colab": {}
      },
      "source": [
        "def aggregations(x):\n",
        "    d = {}\n",
        "    d['monetary_dnn'] = x['order_value'].sum()\n",
        "    d['cnt_orders'] = x['order_date'].nunique()\n",
        "    d['monetary_btyd'] = np.where(d['cnt_orders']==1,0,x['order_value_btyd'].sum()/(d['cnt_orders']-1))\n",
        "    d['recency'] = (x['order_date'].max()-x['order_date'].min()).days\n",
        "    d['T'] = (threshold_date-x['order_date'].min()).days\n",
        "    d['avg_basket_size'] = x['order_qty_articles'].mean()\n",
        "    d['avg_basket_value'] = x['order_value'].mean()\n",
        "    d['cnt_returns'] = np.where(x['order_value']<0,1,0).sum()\n",
        "    return pd.Series(d, index=['monetary_dnn','cnt_orders','monetary_btyd','recency','T','avg_basket_size',\n",
        "                               'avg_basket_value','cnt_returns'])\n",
        "\n",
        "t5 = t4.groupby('customer_id').apply(aggregations).reset_index()"
      ],
      "execution_count": 0,
      "outputs": []
    },
    {
      "cell_type": "code",
      "metadata": {
        "id": "K0lNvTNEIG2S",
        "colab_type": "code",
        "colab": {}
      },
      "source": [
        "target = t3.groupby('customer_id').agg({'order_value':'sum'}).reset_index()\n",
        "target.columns = ['customer_id','target_monetary']\n",
        "target['target_monetary'] = target['target_monetary'].round(2)"
      ],
      "execution_count": 0,
      "outputs": []
    },
    {
      "cell_type": "code",
      "metadata": {
        "id": "9KYv0wJBIG2e",
        "colab_type": "code",
        "outputId": "1dd5981f-9598-41bb-ec8f-5a74fcb6a6b6",
        "colab": {
          "base_uri": "https://localhost:8080/",
          "height": 435
        }
      },
      "source": [
        "t6 = pd.merge(t5,target,on='customer_id',how='inner')\n",
        "t6['frequency_btyd'] = t6['cnt_orders']-1\n",
        "t6['time_between'] = (t6['recency']/t6['cnt_orders']).round(2)\n",
        "t6['avg_basket_value'] = t6['avg_basket_value'].round(2)\n",
        "t6['avg_basket_size'] = t6['avg_basket_size'].round(2)\n",
        "t6['frequency_dnn'] = t6['cnt_orders']\n",
        "t6['has_returned'] = np.where(t6['cnt_returns']>0,1,0)\n",
        "t6['frequency_btyd_clipped'] = np.where(t6['cnt_orders']>600,600,t6['cnt_orders'])\n",
        "t6['monetary_btyd_clipped'] = np.where(t6['monetary_btyd']>100000,100000,t6['monetary_btyd'])\n",
        "t6['target_monetary_clipped'] = np.where(t6['target_monetary']>100000,100000,t6['target_monetary'])\n",
        "t6 = t6[['customer_id','monetary_dnn','monetary_btyd','frequency_dnn','frequency_btyd','recency','T',\n",
        "         'time_between','avg_basket_value','avg_basket_size','cnt_returns','has_returned',\n",
        "         'frequency_btyd_clipped','monetary_btyd_clipped','target_monetary_clipped','target_monetary']]\n",
        "t6 = t6[(t6['monetary_dnn']>0)&(t6['monetary_btyd']>0)]\n",
        "\n",
        "t6"
      ],
      "execution_count": 0,
      "outputs": [
        {
          "output_type": "execute_result",
          "data": {
            "text/html": [
              "<div>\n",
              "<style scoped>\n",
              "    .dataframe tbody tr th:only-of-type {\n",
              "        vertical-align: middle;\n",
              "    }\n",
              "\n",
              "    .dataframe tbody tr th {\n",
              "        vertical-align: top;\n",
              "    }\n",
              "\n",
              "    .dataframe thead th {\n",
              "        text-align: right;\n",
              "    }\n",
              "</style>\n",
              "<table border=\"1\" class=\"dataframe\">\n",
              "  <thead>\n",
              "    <tr style=\"text-align: right;\">\n",
              "      <th></th>\n",
              "      <th>customer_id</th>\n",
              "      <th>monetary_dnn</th>\n",
              "      <th>monetary_btyd</th>\n",
              "      <th>frequency_dnn</th>\n",
              "      <th>frequency_btyd</th>\n",
              "      <th>recency</th>\n",
              "      <th>T</th>\n",
              "      <th>time_between</th>\n",
              "      <th>avg_basket_value</th>\n",
              "      <th>avg_basket_size</th>\n",
              "      <th>cnt_returns</th>\n",
              "      <th>has_returned</th>\n",
              "      <th>frequency_btyd_clipped</th>\n",
              "      <th>monetary_btyd_clipped</th>\n",
              "      <th>target_monetary_clipped</th>\n",
              "      <th>target_monetary</th>\n",
              "    </tr>\n",
              "  </thead>\n",
              "  <tbody>\n",
              "    <tr>\n",
              "      <th>0</th>\n",
              "      <td>12347.0</td>\n",
              "      <td>2790.86</td>\n",
              "      <td>519.7674999999999</td>\n",
              "      <td>5</td>\n",
              "      <td>4</td>\n",
              "      <td>238</td>\n",
              "      <td>276</td>\n",
              "      <td>47.60</td>\n",
              "      <td>558.17</td>\n",
              "      <td>318.00</td>\n",
              "      <td>0</td>\n",
              "      <td>0</td>\n",
              "      <td>5</td>\n",
              "      <td>519.7674999999999</td>\n",
              "      <td>4310.00</td>\n",
              "      <td>4310.00</td>\n",
              "    </tr>\n",
              "    <tr>\n",
              "      <th>1</th>\n",
              "      <td>12348.0</td>\n",
              "      <td>1487.24</td>\n",
              "      <td>297.21999999999997</td>\n",
              "      <td>3</td>\n",
              "      <td>2</td>\n",
              "      <td>110</td>\n",
              "      <td>267</td>\n",
              "      <td>36.67</td>\n",
              "      <td>495.75</td>\n",
              "      <td>708.00</td>\n",
              "      <td>0</td>\n",
              "      <td>0</td>\n",
              "      <td>3</td>\n",
              "      <td>297.21999999999997</td>\n",
              "      <td>1797.24</td>\n",
              "      <td>1797.24</td>\n",
              "    </tr>\n",
              "    <tr>\n",
              "      <th>2</th>\n",
              "      <td>12352.0</td>\n",
              "      <td>601.18</td>\n",
              "      <td>101.55999999999999</td>\n",
              "      <td>4</td>\n",
              "      <td>3</td>\n",
              "      <td>34</td>\n",
              "      <td>205</td>\n",
              "      <td>8.50</td>\n",
              "      <td>150.29</td>\n",
              "      <td>47.00</td>\n",
              "      <td>0</td>\n",
              "      <td>0</td>\n",
              "      <td>4</td>\n",
              "      <td>101.55999999999999</td>\n",
              "      <td>1545.41</td>\n",
              "      <td>1545.41</td>\n",
              "    </tr>\n",
              "    <tr>\n",
              "      <th>3</th>\n",
              "      <td>12356.0</td>\n",
              "      <td>2753.08</td>\n",
              "      <td>481.46</td>\n",
              "      <td>2</td>\n",
              "      <td>1</td>\n",
              "      <td>80</td>\n",
              "      <td>234</td>\n",
              "      <td>40.00</td>\n",
              "      <td>1376.54</td>\n",
              "      <td>793.00</td>\n",
              "      <td>0</td>\n",
              "      <td>0</td>\n",
              "      <td>2</td>\n",
              "      <td>481.46</td>\n",
              "      <td>2811.43</td>\n",
              "      <td>2811.43</td>\n",
              "    </tr>\n",
              "    <tr>\n",
              "      <th>4</th>\n",
              "      <td>12359.0</td>\n",
              "      <td>3459.93</td>\n",
              "      <td>970.8100000000001</td>\n",
              "      <td>4</td>\n",
              "      <td>3</td>\n",
              "      <td>142</td>\n",
              "      <td>240</td>\n",
              "      <td>35.50</td>\n",
              "      <td>864.98</td>\n",
              "      <td>240.25</td>\n",
              "      <td>1</td>\n",
              "      <td>1</td>\n",
              "      <td>4</td>\n",
              "      <td>970.8100000000001</td>\n",
              "      <td>6245.53</td>\n",
              "      <td>6245.53</td>\n",
              "    </tr>\n",
              "    <tr>\n",
              "      <th>...</th>\n",
              "      <td>...</td>\n",
              "      <td>...</td>\n",
              "      <td>...</td>\n",
              "      <td>...</td>\n",
              "      <td>...</td>\n",
              "      <td>...</td>\n",
              "      <td>...</td>\n",
              "      <td>...</td>\n",
              "      <td>...</td>\n",
              "      <td>...</td>\n",
              "      <td>...</td>\n",
              "      <td>...</td>\n",
              "      <td>...</td>\n",
              "      <td>...</td>\n",
              "      <td>...</td>\n",
              "      <td>...</td>\n",
              "    </tr>\n",
              "    <tr>\n",
              "      <th>1389</th>\n",
              "      <td>18257.0</td>\n",
              "      <td>1470.22</td>\n",
              "      <td>190.30333333333337</td>\n",
              "      <td>7</td>\n",
              "      <td>6</td>\n",
              "      <td>182</td>\n",
              "      <td>205</td>\n",
              "      <td>26.00</td>\n",
              "      <td>210.03</td>\n",
              "      <td>98.57</td>\n",
              "      <td>3</td>\n",
              "      <td>1</td>\n",
              "      <td>7</td>\n",
              "      <td>190.30333333333337</td>\n",
              "      <td>2244.98</td>\n",
              "      <td>2244.98</td>\n",
              "    </tr>\n",
              "    <tr>\n",
              "      <th>1390</th>\n",
              "      <td>18263.0</td>\n",
              "      <td>811.40</td>\n",
              "      <td>503.8</td>\n",
              "      <td>2</td>\n",
              "      <td>1</td>\n",
              "      <td>97</td>\n",
              "      <td>161</td>\n",
              "      <td>48.50</td>\n",
              "      <td>405.70</td>\n",
              "      <td>524.00</td>\n",
              "      <td>0</td>\n",
              "      <td>0</td>\n",
              "      <td>2</td>\n",
              "      <td>503.8</td>\n",
              "      <td>1211.08</td>\n",
              "      <td>1211.08</td>\n",
              "    </tr>\n",
              "    <tr>\n",
              "      <th>1391</th>\n",
              "      <td>18272.0</td>\n",
              "      <td>2092.65</td>\n",
              "      <td>363.2075</td>\n",
              "      <td>5</td>\n",
              "      <td>4</td>\n",
              "      <td>133</td>\n",
              "      <td>155</td>\n",
              "      <td>26.60</td>\n",
              "      <td>418.53</td>\n",
              "      <td>291.80</td>\n",
              "      <td>1</td>\n",
              "      <td>1</td>\n",
              "      <td>5</td>\n",
              "      <td>363.2075</td>\n",
              "      <td>3064.78</td>\n",
              "      <td>3064.78</td>\n",
              "    </tr>\n",
              "    <tr>\n",
              "      <th>1392</th>\n",
              "      <td>18273.0</td>\n",
              "      <td>153.00</td>\n",
              "      <td>102.0</td>\n",
              "      <td>2</td>\n",
              "      <td>1</td>\n",
              "      <td>162</td>\n",
              "      <td>166</td>\n",
              "      <td>81.00</td>\n",
              "      <td>76.50</td>\n",
              "      <td>30.00</td>\n",
              "      <td>0</td>\n",
              "      <td>0</td>\n",
              "      <td>2</td>\n",
              "      <td>102.0</td>\n",
              "      <td>204.00</td>\n",
              "      <td>204.00</td>\n",
              "    </tr>\n",
              "    <tr>\n",
              "      <th>1393</th>\n",
              "      <td>18283.0</td>\n",
              "      <td>1120.67</td>\n",
              "      <td>126.52750000000002</td>\n",
              "      <td>9</td>\n",
              "      <td>8</td>\n",
              "      <td>242</td>\n",
              "      <td>246</td>\n",
              "      <td>26.89</td>\n",
              "      <td>124.52</td>\n",
              "      <td>82.44</td>\n",
              "      <td>0</td>\n",
              "      <td>0</td>\n",
              "      <td>9</td>\n",
              "      <td>126.52750000000002</td>\n",
              "      <td>2094.88</td>\n",
              "      <td>2094.88</td>\n",
              "    </tr>\n",
              "  </tbody>\n",
              "</table>\n",
              "<p>1389 rows × 16 columns</p>\n",
              "</div>"
            ],
            "text/plain": [
              "      customer_id  monetary_dnn  ... target_monetary_clipped  target_monetary\n",
              "0         12347.0       2790.86  ...                 4310.00          4310.00\n",
              "1         12348.0       1487.24  ...                 1797.24          1797.24\n",
              "2         12352.0        601.18  ...                 1545.41          1545.41\n",
              "3         12356.0       2753.08  ...                 2811.43          2811.43\n",
              "4         12359.0       3459.93  ...                 6245.53          6245.53\n",
              "...           ...           ...  ...                     ...              ...\n",
              "1389      18257.0       1470.22  ...                 2244.98          2244.98\n",
              "1390      18263.0        811.40  ...                 1211.08          1211.08\n",
              "1391      18272.0       2092.65  ...                 3064.78          3064.78\n",
              "1392      18273.0        153.00  ...                  204.00           204.00\n",
              "1393      18283.0       1120.67  ...                 2094.88          2094.88\n",
              "\n",
              "[1389 rows x 16 columns]"
            ]
          },
          "metadata": {
            "tags": []
          },
          "execution_count": 32
        }
      ]
    },
    {
      "cell_type": "markdown",
      "metadata": {
        "id": "0f6n0yX6xuow",
        "colab_type": "text"
      },
      "source": [
        "**Histograms for Recency, Frequency and Monetary values**"
      ]
    },
    {
      "cell_type": "code",
      "metadata": {
        "id": "5WsjtC_kxt8t",
        "colab_type": "code",
        "outputId": "227f4189-63ae-42d9-ac34-771dfd55eb2d",
        "colab": {
          "base_uri": "https://localhost:8080/",
          "height": 439
        }
      },
      "source": [
        "t6['frequency_btyd'].plot(kind='hist', bins=50)\n",
        "print(t6['frequency_btyd'].describe())\n",
        "print(sum(t6['frequency_btyd'] == 1)/float(len(t6)))"
      ],
      "execution_count": 0,
      "outputs": [
        {
          "output_type": "stream",
          "text": [
            "count    1389.000000\n",
            "mean        5.455724\n",
            "std         7.072419\n",
            "min         1.000000\n",
            "25%         2.000000\n",
            "50%         3.000000\n",
            "75%         6.000000\n",
            "max        89.000000\n",
            "Name: frequency_btyd, dtype: float64\n",
            "0.18862491000719941\n"
          ],
          "name": "stdout"
        },
        {
          "output_type": "display_data",
          "data": {
            "image/png": "[encoded data removed]",
            "text/plain": [
              "<Figure size 432x288 with 1 Axes>"
            ]
          },
          "metadata": {
            "tags": [],
            "needs_background": "light"
          }
        }
      ]
    },
    {
      "cell_type": "code",
      "metadata": {
        "id": "tsix3Wrex2mL",
        "colab_type": "code",
        "outputId": "498cf10d-f028-4beb-bd7f-7e6811597847",
        "colab": {
          "base_uri": "https://localhost:8080/",
          "height": 283
        }
      },
      "source": [
        "t6['recency'].plot(kind='hist', bins=50)\n"
      ],
      "execution_count": 0,
      "outputs": [
        {
          "output_type": "execute_result",
          "data": {
            "text/plain": [
              "<matplotlib.axes._subplots.AxesSubplot at 0x7f3ae9da1c18>"
            ]
          },
          "metadata": {
            "tags": []
          },
          "execution_count": 55
        },
        {
          "output_type": "display_data",
          "data": {
            "image/png": "[encoded data removed]",
            "text/plain": [
              "<Figure size 432x288 with 1 Axes>"
            ]
          },
          "metadata": {
            "tags": [],
            "needs_background": "light"
          }
        }
      ]
    },
    {
      "cell_type": "code",
      "metadata": {
        "id": "JH7lzSWCx4-x",
        "colab_type": "code",
        "outputId": "24d638a0-d1ab-4216-c9bb-79e921c2a9fe",
        "colab": {
          "base_uri": "https://localhost:8080/",
          "height": 285
        }
      },
      "source": [
        "t6['monetary_btyd']= t6['monetary_btyd'].apply(np.int)\n",
        "t6['monetary_btyd'].plot(kind='hist', bins=50)"
      ],
      "execution_count": 0,
      "outputs": [
        {
          "output_type": "execute_result",
          "data": {
            "text/plain": [
              "<matplotlib.axes._subplots.AxesSubplot at 0x7f3aea3ed908>"
            ]
          },
          "metadata": {
            "tags": []
          },
          "execution_count": 56
        },
        {
          "output_type": "display_data",
          "data": {
            "image/png": "[encoded data removed]",
            "text/plain": [
              "<Figure size 432x288 with 1 Axes>"
            ]
          },
          "metadata": {
            "tags": [],
            "needs_background": "light"
          }
        }
      ]
    },
    {
      "cell_type": "markdown",
      "metadata": {
        "id": "MR8rvMtTIG2o",
        "colab_type": "text"
      },
      "source": [
        "## Probabilistic Model"
      ]
    },
    {
      "cell_type": "code",
      "metadata": {
        "id": "_282uBFVIG2q",
        "colab_type": "code",
        "colab": {}
      },
      "source": [
        "from datetime import datetime\n",
        "from lifetimes import BetaGeoFitter, ParetoNBDFitter, GammaGammaFitter\n",
        "import math\n",
        "import numpy as np\n",
        "import os\n",
        "import pandas as pd\n",
        "import tensorflow as tf\n",
        "\n",
        "PENALIZER_COEF = 0.01\n",
        "DISCOUNT_RATE = 0.01"
      ],
      "execution_count": 0,
      "outputs": []
    },
    {
      "cell_type": "code",
      "metadata": {
        "id": "jNlyS7OSIG21",
        "colab_type": "code",
        "colab": {}
      },
      "source": [
        "summary = t6[['customer_id', 'frequency_btyd', 'recency', 'T', 'monetary_btyd']]\n",
        "summary.columns = ['customer_id', 'frequency', 'recency', 'T', 'monetary_value']\n",
        "summary = summary.set_index('customer_id')\n",
        "\n",
        "actual_df = t6[['customer_id', 'frequency_btyd', 'monetary_dnn', 'target_monetary']]\n",
        "actual_df.columns = ['customer_id', 'train_frequency', 'train_monetary', 'act_target_monetary']"
      ],
      "execution_count": 0,
      "outputs": []
    },
    {
      "cell_type": "code",
      "metadata": {
        "id": "uBr0YGEgIG2_",
        "colab_type": "code",
        "colab": {}
      },
      "source": [
        "def bgnbd_model(summary):\n",
        "    bgf = BetaGeoFitter(penalizer_coef=PENALIZER_COEF)\n",
        "    bgf.fit(summary['frequency'], summary['recency'], summary['T'])\n",
        "    return bgf\n",
        "\n",
        "\n",
        "def paretonbd_model(summary):\n",
        "    paretof = ParetoNBDFitter(penalizer_coef=PENALIZER_COEF)\n",
        "    paretof.fit(summary['frequency'], summary['recency'], summary['T'])\n",
        "    return paretof"
      ],
      "execution_count": 0,
      "outputs": []
    },
    {
      "cell_type": "code",
      "metadata": {
        "id": "H-zNuGkpIG3O",
        "colab_type": "code",
        "colab": {}
      },
      "source": [
        "def predict_value(summary, actual_df, fitter, ggf, time_days, time_months):\n",
        "    ltv = pd.DataFrame(data=np.zeros([actual_df.shape[0], 6]),\n",
        "                       columns=['customer_id',\n",
        "                              'actual_total',\n",
        "                              'predicted_num_purchases',\n",
        "                              'predicted_value',\n",
        "                              'predicted_total',\n",
        "                              'error'], dtype=np.float32)\n",
        "\n",
        "    predicted_num_purchases = fitter.predict(time_days,\n",
        "                                           summary['frequency'],\n",
        "                                           summary['recency'],\n",
        "                                           summary['T'])\n",
        "\n",
        "    predicted_value = ggf.customer_lifetime_value(fitter,\n",
        "                                                summary['frequency'],\n",
        "                                                summary['recency'],\n",
        "                                                summary['T'],\n",
        "                                                summary['monetary_value'],\n",
        "                                                time=time_months,\n",
        "                                                discount_rate=DISCOUNT_RATE)\n",
        "\n",
        "    ltv['customer_id'] = actual_df['customer_id']\n",
        "    ltv['actual_total'] = actual_df['act_target_monetary']\n",
        "    ltv['predicted_num_purchases'] = predicted_num_purchases.values\n",
        "    ltv['predicted_value'] = predicted_value.values\n",
        "    ltv['predicted_total'] = actual_df['train_monetary'] + ltv['predicted_value']\n",
        "    ltv['error'] = ltv['actual_total'] - ltv['predicted_total']\n",
        "\n",
        "    mse = pd.Series.sum(ltv['error'] * ltv['error']) / ltv.shape[0]\n",
        "    rmse = math.sqrt(mse)\n",
        "\n",
        "    return ltv, rmse"
      ],
      "execution_count": 0,
      "outputs": []
    },
    {
      "cell_type": "code",
      "metadata": {
        "id": "_02bT7lWIG3m",
        "colab_type": "code",
        "colab": {}
      },
      "source": [
        "time_days = (predict_date - threshold_date).days\n",
        "time_months = int(math.ceil(time_days / 30.0))"
      ],
      "execution_count": 0,
      "outputs": []
    },
    {
      "cell_type": "code",
      "metadata": {
        "id": "ihLqsw1cIG3z",
        "colab_type": "code",
        "outputId": "fc0b19f6-40bc-46b3-93f5-2683545c14f4",
        "colab": {
          "base_uri": "https://localhost:8080/",
          "height": 35
        }
      },
      "source": [
        "ggf = GammaGammaFitter(penalizer_coef=0)\n",
        "ggf.fit(summary['frequency'], summary['monetary_value'])"
      ],
      "execution_count": 0,
      "outputs": [
        {
          "output_type": "execute_result",
          "data": {
            "text/plain": [
              "<lifetimes.GammaGammaFitter: fitted with 1389 subjects, p: 1.24, q: 3.73, v: 790.49>"
            ]
          },
          "metadata": {
            "tags": []
          },
          "execution_count": 40
        }
      ]
    },
    {
      "cell_type": "code",
      "metadata": {
        "id": "FXzyKnXQIG4A",
        "colab_type": "code",
        "outputId": "3d4150f1-ee16-4eea-a962-4db8d008bf9a",
        "colab": {
          "base_uri": "https://localhost:8080/",
          "height": 52
        }
      },
      "source": [
        "## bgnbd_model\n",
        "bgnbd_ltv, bgnbd_rmse = predict_value(summary,\n",
        "                                    actual_df,\n",
        "                                    bgnbd_model(summary),\n",
        "                                    ggf,\n",
        "                                    time_days,\n",
        "                                    time_months)\n",
        "\n",
        "## paretonbd_model\n",
        "paretonbd_ltv, paretonbd_rmse = predict_value(summary,\n",
        "                                            actual_df,\n",
        "                                            paretonbd_model(summary),\n",
        "                                            ggf,\n",
        "                                            time_days,\n",
        "                                            time_months)"
      ],
      "execution_count": 0,
      "outputs": [
        {
          "output_type": "stream",
          "text": [
            "/usr/local/lib/python3.6/dist-packages/pandas/core/series.py:679: RuntimeWarning: divide by zero encountered in log\n",
            "  result = getattr(ufunc, method)(*inputs, **kwargs)\n"
          ],
          "name": "stderr"
        }
      ]
    },
    {
      "cell_type": "markdown",
      "metadata": {
        "id": "2m4xAEMesvwu",
        "colab_type": "text"
      },
      "source": [
        "**Final ltv and RMSE for bgnd and pareto model**"
      ]
    },
    {
      "cell_type": "code",
      "metadata": {
        "id": "xH15a62NIG4J",
        "colab_type": "code",
        "colab": {}
      },
      "source": [
        "b1 = t3[t3['order_date']<threshold_date]\n",
        "b1 = b1.groupby('customer_id').agg({'order_value':'mean','order_date':'nunique'}).reset_index()\n",
        "b1.columns = ['customer_id','avg_basket_value','cnt_orders']\n",
        "\n",
        "b2 = t3.groupby('customer_id').agg({'order_value':'mean'}).reset_index()\n",
        "b2.columns = ['customer_id','target_monetary']\n",
        "\n",
        "feature_days = (threshold_date - t3['order_date'].min()).days\n",
        "target_days = (predict_date - threshold_date).days\n",
        "\n",
        "b3 = pd.merge(b1,b2,on='customer_id',how='inner')\n",
        "b3['predicted_monetary'] = b3['avg_basket_value']*(b3['cnt_orders']*(1+target_days/feature_days))\n",
        "b3['target_monetary'] = b3['target_monetary'].round(2)\n",
        "b3 = b3[['customer_id','predicted_monetary','target_monetary']]\n",
        "\n",
        "benchmark_rmse = round(np.sqrt(np.power(b3['predicted_monetary']-b3['target_monetary'],2).sum()/b3.shape[0]),2)"
      ],
      "execution_count": 0,
      "outputs": []
    },
    {
      "cell_type": "code",
      "metadata": {
        "id": "MJKwXAwTIG4Q",
        "colab_type": "code",
        "outputId": "f9353998-4d02-4c4f-87c9-19ccf7bbc4eb",
        "colab": {
          "base_uri": "https://localhost:8080/",
          "height": 35
        }
      },
      "source": [
        "benchmark_rmse, bgnbd_rmse, paretonbd_rmse"
      ],
      "execution_count": 0,
      "outputs": [
        {
          "output_type": "execute_result",
          "data": {
            "text/plain": [
              "(11625.43, 6549.1501609587485, 6436.446051353354)"
            ]
          },
          "metadata": {
            "tags": []
          },
          "execution_count": 43
        }
      ]
    },
    {
      "cell_type": "markdown",
      "metadata": {
        "id": "FO9F0oK5s337",
        "colab_type": "text"
      },
      "source": [
        "**Expected future purchases by frequency and recency of customer**"
      ]
    },
    {
      "cell_type": "code",
      "metadata": {
        "id": "149Ut8eEIG4X",
        "colab_type": "code",
        "outputId": "ab251113-e718-41f7-e17e-703da00971dc",
        "colab": {
          "base_uri": "https://localhost:8080/",
          "height": 545
        }
      },
      "source": [
        "from lifetimes.plotting import plot_frequency_recency_matrix, plot_probability_alive_matrix\n",
        "import matplotlib.pyplot as plt\n",
        "fig = plt.figure(figsize=(12,8))\n",
        "plot_frequency_recency_matrix(paretonbd_model(summary))"
      ],
      "execution_count": 0,
      "outputs": [
        {
          "output_type": "execute_result",
          "data": {
            "text/plain": [
              "<matplotlib.axes._subplots.AxesSubplot at 0x7f3aed5b4be0>"
            ]
          },
          "metadata": {
            "tags": []
          },
          "execution_count": 44
        },
        {
          "output_type": "display_data",
          "data": {
            "image/png": "[encoded data removed]",
            "text/plain": [
              "<Figure size 864x576 with 2 Axes>"
            ]
          },
          "metadata": {
            "tags": [],
            "needs_background": "light"
          }
        }
      ]
    },
    {
      "cell_type": "markdown",
      "metadata": {
        "id": "xrnMO-W4tFcu",
        "colab_type": "text"
      },
      "source": [
        "**Clustering on Recency, Frequency and Monetary values to form segments**"
      ]
    },
    {
      "cell_type": "code",
      "metadata": {
        "id": "zu2LMOgpise-",
        "colab_type": "code",
        "outputId": "5c4bed6e-d72c-4334-c773-4c9987c29167",
        "colab": {
          "base_uri": "https://localhost:8080/",
          "height": 290
        }
      },
      "source": [
        "from sklearn.cluster import KMeans\n",
        "\n",
        "\n",
        "MYSEED = 199\n",
        "sse={}\n",
        "t6_recency = t6[['recency']]\n",
        "for k in range(1, 10):\n",
        "    kmeans = KMeans(n_clusters=k, max_iter=1000).fit(t6_recency)\n",
        "    t6_recency[\"clusters\"] = kmeans.labels_\n",
        "    sse[k] = kmeans.inertia_ \n",
        "plt.figure()\n",
        "plt.plot(list(sse.keys()), list(sse.values()))\n",
        "plt.xlabel(\"Number of cluster\")\n",
        "plt.show()\n",
        "\n",
        "\n",
        "\n"
      ],
      "execution_count": 0,
      "outputs": [
        {
          "output_type": "display_data",
          "data": {
            "image/png": "[encoded data removed]",
            "text/plain": [
              "<Figure size 432x288 with 1 Axes>"
            ]
          },
          "metadata": {
            "tags": [],
            "needs_background": "light"
          }
        }
      ]
    },
    {
      "cell_type": "markdown",
      "metadata": {
        "id": "N_p5zBr1j91P",
        "colab_type": "text"
      },
      "source": [
        "**Recency clusters**"
      ]
    },
    {
      "cell_type": "code",
      "metadata": {
        "id": "zN9ktLKVjJ4b",
        "colab_type": "code",
        "outputId": "7309730c-9011-4987-f000-c58462afe2c6",
        "colab": {
          "base_uri": "https://localhost:8080/",
          "height": 202
        }
      },
      "source": [
        "kmeans = KMeans(n_clusters=4,random_state=MYSEED)\n",
        "kmeans.fit(t6[['recency']])\n",
        "t6['RecencyCluster'] = kmeans.predict(t6[['recency']])\n",
        "\n",
        "#function for ordering cluster numbers\n",
        "def order_cluster(cluster_field_name, target_field_name,df,ascending):\n",
        "    new_cluster_field_name = 'new_' + cluster_field_name\n",
        "    df_new = df.groupby(cluster_field_name)[target_field_name].mean().reset_index()\n",
        "    df_new = df_new.sort_values(by=target_field_name,ascending=ascending).reset_index(drop=True)\n",
        "    df_new['index'] = df_new.index\n",
        "    df_final = pd.merge(df,df_new[[cluster_field_name,'index']], on=cluster_field_name)\n",
        "    df_final = df_final.drop([cluster_field_name],axis=1)\n",
        "    df_final = df_final.rename(columns={\"index\":cluster_field_name})\n",
        "    return df_final\n",
        "\n",
        "t6_cust = order_cluster('RecencyCluster', 'recency',t6,False)\n",
        "\n",
        "t6_cust.groupby('RecencyCluster')['recency'].describe()\n"
      ],
      "execution_count": 0,
      "outputs": [
        {
          "output_type": "execute_result",
          "data": {
            "text/html": [
              "<div>\n",
              "<style scoped>\n",
              "    .dataframe tbody tr th:only-of-type {\n",
              "        vertical-align: middle;\n",
              "    }\n",
              "\n",
              "    .dataframe tbody tr th {\n",
              "        vertical-align: top;\n",
              "    }\n",
              "\n",
              "    .dataframe thead th {\n",
              "        text-align: right;\n",
              "    }\n",
              "</style>\n",
              "<table border=\"1\" class=\"dataframe\">\n",
              "  <thead>\n",
              "    <tr style=\"text-align: right;\">\n",
              "      <th></th>\n",
              "      <th>count</th>\n",
              "      <th>mean</th>\n",
              "      <th>std</th>\n",
              "      <th>min</th>\n",
              "      <th>25%</th>\n",
              "      <th>50%</th>\n",
              "      <th>75%</th>\n",
              "      <th>max</th>\n",
              "    </tr>\n",
              "    <tr>\n",
              "      <th>RecencyCluster</th>\n",
              "      <th></th>\n",
              "      <th></th>\n",
              "      <th></th>\n",
              "      <th></th>\n",
              "      <th></th>\n",
              "      <th></th>\n",
              "      <th></th>\n",
              "      <th></th>\n",
              "    </tr>\n",
              "  </thead>\n",
              "  <tbody>\n",
              "    <tr>\n",
              "      <th>0</th>\n",
              "      <td>459.0</td>\n",
              "      <td>253.017429</td>\n",
              "      <td>18.095444</td>\n",
              "      <td>219.0</td>\n",
              "      <td>238.0</td>\n",
              "      <td>255.0</td>\n",
              "      <td>269.0</td>\n",
              "      <td>282.0</td>\n",
              "    </tr>\n",
              "    <tr>\n",
              "      <th>1</th>\n",
              "      <td>376.0</td>\n",
              "      <td>184.250000</td>\n",
              "      <td>19.795791</td>\n",
              "      <td>150.0</td>\n",
              "      <td>167.0</td>\n",
              "      <td>183.0</td>\n",
              "      <td>202.0</td>\n",
              "      <td>218.0</td>\n",
              "    </tr>\n",
              "    <tr>\n",
              "      <th>2</th>\n",
              "      <td>328.0</td>\n",
              "      <td>115.579268</td>\n",
              "      <td>18.415020</td>\n",
              "      <td>83.0</td>\n",
              "      <td>101.0</td>\n",
              "      <td>116.0</td>\n",
              "      <td>130.0</td>\n",
              "      <td>149.0</td>\n",
              "    </tr>\n",
              "    <tr>\n",
              "      <th>3</th>\n",
              "      <td>226.0</td>\n",
              "      <td>49.610619</td>\n",
              "      <td>22.134913</td>\n",
              "      <td>1.0</td>\n",
              "      <td>32.5</td>\n",
              "      <td>52.0</td>\n",
              "      <td>70.0</td>\n",
              "      <td>82.0</td>\n",
              "    </tr>\n",
              "  </tbody>\n",
              "</table>\n",
              "</div>"
            ],
            "text/plain": [
              "                count        mean        std    min    25%    50%    75%    max\n",
              "RecencyCluster                                                                 \n",
              "0               459.0  253.017429  18.095444  219.0  238.0  255.0  269.0  282.0\n",
              "1               376.0  184.250000  19.795791  150.0  167.0  183.0  202.0  218.0\n",
              "2               328.0  115.579268  18.415020   83.0  101.0  116.0  130.0  149.0\n",
              "3               226.0   49.610619  22.134913    1.0   32.5   52.0   70.0   82.0"
            ]
          },
          "metadata": {
            "tags": []
          },
          "execution_count": 134
        }
      ]
    },
    {
      "cell_type": "markdown",
      "metadata": {
        "id": "HGZKA1cEuDtz",
        "colab_type": "text"
      },
      "source": [
        "**Frequency clusters**"
      ]
    },
    {
      "cell_type": "code",
      "metadata": {
        "id": "gOiJ5BpRkEMx",
        "colab_type": "code",
        "outputId": "07acc25c-43c6-42bc-9fc5-821ef91245b0",
        "colab": {
          "base_uri": "https://localhost:8080/",
          "height": 202
        }
      },
      "source": [
        "kmeans = KMeans(n_clusters=4,random_state=MYSEED)\n",
        "kmeans.fit(t6[['frequency_btyd']])\n",
        "t6['FrequencyCluster'] = kmeans.predict(t6[['frequency_btyd']])\n",
        "\n",
        "#order the frequency cluster\n",
        "t6_cust = order_cluster('FrequencyCluster', 'frequency_btyd',t6,True)\n",
        "\n",
        "#see details of each cluster\n",
        "t6_cust.groupby('FrequencyCluster')['frequency_btyd'].describe()"
      ],
      "execution_count": 0,
      "outputs": [
        {
          "output_type": "execute_result",
          "data": {
            "text/html": [
              "<div>\n",
              "<style scoped>\n",
              "    .dataframe tbody tr th:only-of-type {\n",
              "        vertical-align: middle;\n",
              "    }\n",
              "\n",
              "    .dataframe tbody tr th {\n",
              "        vertical-align: top;\n",
              "    }\n",
              "\n",
              "    .dataframe thead th {\n",
              "        text-align: right;\n",
              "    }\n",
              "</style>\n",
              "<table border=\"1\" class=\"dataframe\">\n",
              "  <thead>\n",
              "    <tr style=\"text-align: right;\">\n",
              "      <th></th>\n",
              "      <th>count</th>\n",
              "      <th>mean</th>\n",
              "      <th>std</th>\n",
              "      <th>min</th>\n",
              "      <th>25%</th>\n",
              "      <th>50%</th>\n",
              "      <th>75%</th>\n",
              "      <th>max</th>\n",
              "    </tr>\n",
              "    <tr>\n",
              "      <th>FrequencyCluster</th>\n",
              "      <th></th>\n",
              "      <th></th>\n",
              "      <th></th>\n",
              "      <th></th>\n",
              "      <th></th>\n",
              "      <th></th>\n",
              "      <th></th>\n",
              "      <th></th>\n",
              "    </tr>\n",
              "  </thead>\n",
              "  <tbody>\n",
              "    <tr>\n",
              "      <th>0</th>\n",
              "      <td>1044.0</td>\n",
              "      <td>2.812261</td>\n",
              "      <td>1.586497</td>\n",
              "      <td>1.0</td>\n",
              "      <td>1.00</td>\n",
              "      <td>2.0</td>\n",
              "      <td>4.0</td>\n",
              "      <td>6.0</td>\n",
              "    </tr>\n",
              "    <tr>\n",
              "      <th>1</th>\n",
              "      <td>295.0</td>\n",
              "      <td>10.250847</td>\n",
              "      <td>3.045816</td>\n",
              "      <td>7.0</td>\n",
              "      <td>8.00</td>\n",
              "      <td>9.0</td>\n",
              "      <td>13.0</td>\n",
              "      <td>18.0</td>\n",
              "    </tr>\n",
              "    <tr>\n",
              "      <th>2</th>\n",
              "      <td>42.0</td>\n",
              "      <td>25.857143</td>\n",
              "      <td>6.237461</td>\n",
              "      <td>19.0</td>\n",
              "      <td>20.25</td>\n",
              "      <td>24.0</td>\n",
              "      <td>29.0</td>\n",
              "      <td>44.0</td>\n",
              "    </tr>\n",
              "    <tr>\n",
              "      <th>3</th>\n",
              "      <td>8.0</td>\n",
              "      <td>66.500000</td>\n",
              "      <td>12.581165</td>\n",
              "      <td>50.0</td>\n",
              "      <td>59.75</td>\n",
              "      <td>65.0</td>\n",
              "      <td>73.0</td>\n",
              "      <td>89.0</td>\n",
              "    </tr>\n",
              "  </tbody>\n",
              "</table>\n",
              "</div>"
            ],
            "text/plain": [
              "                   count       mean        std   min    25%   50%   75%   max\n",
              "FrequencyCluster                                                             \n",
              "0                 1044.0   2.812261   1.586497   1.0   1.00   2.0   4.0   6.0\n",
              "1                  295.0  10.250847   3.045816   7.0   8.00   9.0  13.0  18.0\n",
              "2                   42.0  25.857143   6.237461  19.0  20.25  24.0  29.0  44.0\n",
              "3                    8.0  66.500000  12.581165  50.0  59.75  65.0  73.0  89.0"
            ]
          },
          "metadata": {
            "tags": []
          },
          "execution_count": 135
        }
      ]
    },
    {
      "cell_type": "markdown",
      "metadata": {
        "id": "t8pPiRYYtRf-",
        "colab_type": "text"
      },
      "source": [
        "**Monetary Cluster**"
      ]
    },
    {
      "cell_type": "code",
      "metadata": {
        "id": "sHM8WXUsIG4q",
        "colab_type": "code",
        "outputId": "411b3bf5-0e68-4252-da0f-0d275ffca176",
        "colab": {
          "base_uri": "https://localhost:8080/",
          "height": 202
        }
      },
      "source": [
        "#apply clustering\n",
        "from sklearn.cluster import KMeans\n",
        "kmeans = KMeans(n_clusters=4,random_state=MYSEED)\n",
        "kmeans.fit(t6[['target_monetary']])\n",
        "t6['RevenueCluster'] = kmeans.predict(t6[['target_monetary']])\n",
        "\n",
        "\n",
        "#order the cluster numbers\n",
        "t6_cust = order_cluster('RevenueCluster', 'target_monetary',t6,True)\n",
        "\n",
        "#show details of the dataframe\n",
        "t6_cust.groupby('RevenueCluster')['target_monetary'].describe()"
      ],
      "execution_count": 0,
      "outputs": [
        {
          "output_type": "execute_result",
          "data": {
            "text/html": [
              "<div>\n",
              "<style scoped>\n",
              "    .dataframe tbody tr th:only-of-type {\n",
              "        vertical-align: middle;\n",
              "    }\n",
              "\n",
              "    .dataframe tbody tr th {\n",
              "        vertical-align: top;\n",
              "    }\n",
              "\n",
              "    .dataframe thead th {\n",
              "        text-align: right;\n",
              "    }\n",
              "</style>\n",
              "<table border=\"1\" class=\"dataframe\">\n",
              "  <thead>\n",
              "    <tr style=\"text-align: right;\">\n",
              "      <th></th>\n",
              "      <th>count</th>\n",
              "      <th>mean</th>\n",
              "      <th>std</th>\n",
              "      <th>min</th>\n",
              "      <th>25%</th>\n",
              "      <th>50%</th>\n",
              "      <th>75%</th>\n",
              "      <th>max</th>\n",
              "    </tr>\n",
              "    <tr>\n",
              "      <th>RevenueCluster</th>\n",
              "      <th></th>\n",
              "      <th></th>\n",
              "      <th></th>\n",
              "      <th></th>\n",
              "      <th></th>\n",
              "      <th></th>\n",
              "      <th></th>\n",
              "      <th></th>\n",
              "    </tr>\n",
              "  </thead>\n",
              "  <tbody>\n",
              "    <tr>\n",
              "      <th>0</th>\n",
              "      <td>1355.0</td>\n",
              "      <td>3004.059166</td>\n",
              "      <td>3037.454144</td>\n",
              "      <td>36.56</td>\n",
              "      <td>1140.5350</td>\n",
              "      <td>2030.330</td>\n",
              "      <td>3651.4200</td>\n",
              "      <td>21086.30</td>\n",
              "    </tr>\n",
              "    <tr>\n",
              "      <th>1</th>\n",
              "      <td>27.0</td>\n",
              "      <td>40980.163333</td>\n",
              "      <td>13284.700404</td>\n",
              "      <td>25748.35</td>\n",
              "      <td>29508.6500</td>\n",
              "      <td>33820.090</td>\n",
              "      <td>52287.2800</td>\n",
              "      <td>65892.08</td>\n",
              "    </tr>\n",
              "    <tr>\n",
              "      <th>2</th>\n",
              "      <td>5.0</td>\n",
              "      <td>129039.466000</td>\n",
              "      <td>36656.099983</td>\n",
              "      <td>88125.38</td>\n",
              "      <td>113384.1400</td>\n",
              "      <td>123725.450</td>\n",
              "      <td>132480.1900</td>\n",
              "      <td>187482.17</td>\n",
              "    </tr>\n",
              "    <tr>\n",
              "      <th>3</th>\n",
              "      <td>2.0</td>\n",
              "      <td>267963.755000</td>\n",
              "      <td>16299.186073</td>\n",
              "      <td>256438.49</td>\n",
              "      <td>262201.1225</td>\n",
              "      <td>267963.755</td>\n",
              "      <td>273726.3875</td>\n",
              "      <td>279489.02</td>\n",
              "    </tr>\n",
              "  </tbody>\n",
              "</table>\n",
              "</div>"
            ],
            "text/plain": [
              "                 count           mean  ...          75%        max\n",
              "RevenueCluster                         ...                        \n",
              "0               1355.0    3004.059166  ...    3651.4200   21086.30\n",
              "1                 27.0   40980.163333  ...   52287.2800   65892.08\n",
              "2                  5.0  129039.466000  ...  132480.1900  187482.17\n",
              "3                  2.0  267963.755000  ...  273726.3875  279489.02\n",
              "\n",
              "[4 rows x 8 columns]"
            ]
          },
          "metadata": {
            "tags": []
          },
          "execution_count": 136
        }
      ]
    },
    {
      "cell_type": "markdown",
      "metadata": {
        "id": "ArsMrQvCu14U",
        "colab_type": "text"
      },
      "source": [
        "**Overall score based on RFM clusters**"
      ]
    },
    {
      "cell_type": "code",
      "metadata": {
        "id": "4mdwEJ5RhsIM",
        "colab_type": "code",
        "outputId": "c381bc9b-2726-48f0-a80d-f120fcc01b56",
        "colab": {
          "base_uri": "https://localhost:8080/",
          "height": 355
        }
      },
      "source": [
        "t6_cust['OverallScore'] = t6_cust['RecencyCluster'] + t6_cust['FrequencyCluster'] + t6_cust['RevenueCluster']\n",
        "t6_cust.groupby('OverallScore')['recency','frequency_btyd','target_monetary'].mean()"
      ],
      "execution_count": 0,
      "outputs": [
        {
          "output_type": "execute_result",
          "data": {
            "text/html": [
              "<div>\n",
              "<style scoped>\n",
              "    .dataframe tbody tr th:only-of-type {\n",
              "        vertical-align: middle;\n",
              "    }\n",
              "\n",
              "    .dataframe tbody tr th {\n",
              "        vertical-align: top;\n",
              "    }\n",
              "\n",
              "    .dataframe thead th {\n",
              "        text-align: right;\n",
              "    }\n",
              "</style>\n",
              "<table border=\"1\" class=\"dataframe\">\n",
              "  <thead>\n",
              "    <tr style=\"text-align: right;\">\n",
              "      <th></th>\n",
              "      <th>recency</th>\n",
              "      <th>frequency_btyd</th>\n",
              "      <th>target_monetary</th>\n",
              "    </tr>\n",
              "    <tr>\n",
              "      <th>OverallScore</th>\n",
              "      <th></th>\n",
              "      <th></th>\n",
              "      <th></th>\n",
              "    </tr>\n",
              "  </thead>\n",
              "  <tbody>\n",
              "    <tr>\n",
              "      <th>0</th>\n",
              "      <td>49.709821</td>\n",
              "      <td>1.674107</td>\n",
              "      <td>1526.519241</td>\n",
              "    </tr>\n",
              "    <tr>\n",
              "      <th>1</th>\n",
              "      <td>182.867508</td>\n",
              "      <td>3.321767</td>\n",
              "      <td>2608.764385</td>\n",
              "    </tr>\n",
              "    <tr>\n",
              "      <th>2</th>\n",
              "      <td>116.100313</td>\n",
              "      <td>2.504702</td>\n",
              "      <td>1986.714796</td>\n",
              "    </tr>\n",
              "    <tr>\n",
              "      <th>3</th>\n",
              "      <td>232.633745</td>\n",
              "      <td>5.259259</td>\n",
              "      <td>3216.717984</td>\n",
              "    </tr>\n",
              "    <tr>\n",
              "      <th>4</th>\n",
              "      <td>215.850000</td>\n",
              "      <td>19.650000</td>\n",
              "      <td>8756.751500</td>\n",
              "    </tr>\n",
              "    <tr>\n",
              "      <th>5</th>\n",
              "      <td>256.089686</td>\n",
              "      <td>11.269058</td>\n",
              "      <td>7403.718206</td>\n",
              "    </tr>\n",
              "    <tr>\n",
              "      <th>6</th>\n",
              "      <td>263.500000</td>\n",
              "      <td>21.428571</td>\n",
              "      <td>54173.265000</td>\n",
              "    </tr>\n",
              "    <tr>\n",
              "      <th>7</th>\n",
              "      <td>269.000000</td>\n",
              "      <td>52.714286</td>\n",
              "      <td>89300.385714</td>\n",
              "    </tr>\n",
              "    <tr>\n",
              "      <th>8</th>\n",
              "      <td>275.500000</td>\n",
              "      <td>52.500000</td>\n",
              "      <td>194459.340000</td>\n",
              "    </tr>\n",
              "  </tbody>\n",
              "</table>\n",
              "</div>"
            ],
            "text/plain": [
              "                 recency  frequency_btyd  target_monetary\n",
              "OverallScore                                             \n",
              "0              49.709821        1.674107      1526.519241\n",
              "1             182.867508        3.321767      2608.764385\n",
              "2             116.100313        2.504702      1986.714796\n",
              "3             232.633745        5.259259      3216.717984\n",
              "4             215.850000       19.650000      8756.751500\n",
              "5             256.089686       11.269058      7403.718206\n",
              "6             263.500000       21.428571     54173.265000\n",
              "7             269.000000       52.714286     89300.385714\n",
              "8             275.500000       52.500000    194459.340000"
            ]
          },
          "metadata": {
            "tags": []
          },
          "execution_count": 137
        }
      ]
    },
    {
      "cell_type": "markdown",
      "metadata": {
        "id": "A3ecPhn4lSbR",
        "colab_type": "text"
      },
      "source": [
        "Now we have 9 overall clusters, clearly \n",
        "0,1,2,3 Low Value\n",
        "4 and 5 Mid Value\n",
        "6,7,8 High Value "
      ]
    },
    {
      "cell_type": "markdown",
      "metadata": {
        "id": "DZ8EbeMstx4R",
        "colab_type": "text"
      },
      "source": [
        "**Segments based on overall scores**"
      ]
    },
    {
      "cell_type": "code",
      "metadata": {
        "id": "PFQmUbAOk5Ci",
        "colab_type": "code",
        "colab": {}
      },
      "source": [
        "\n",
        "t6_cust['Segment'] = 'Low-Value'\n",
        "t6_cust.loc[t6_cust['OverallScore']>3,'Segment'] = 'Mid-Value' \n",
        "t6_cust.loc[t6_cust['OverallScore']>6,'Segment'] = 'High-Value' "
      ],
      "execution_count": 0,
      "outputs": []
    },
    {
      "cell_type": "markdown",
      "metadata": {
        "id": "bqIuvLtNt4fn",
        "colab_type": "text"
      },
      "source": [
        "**Visualizing Segments**"
      ]
    },
    {
      "cell_type": "code",
      "metadata": {
        "id": "_UasxWXKmPri",
        "colab_type": "code",
        "outputId": "c3da5665-161b-472d-ee33-8d1d2f5e29d4",
        "colab": {
          "base_uri": "https://localhost:8080/",
          "height": 1000
        }
      },
      "source": [
        "import chart_studio.plotly as py\n",
        "import plotly.offline as pyoff\n",
        "import plotly.graph_objs as go\n",
        "t6_graph  = t6_cust.query(\"target_monetary < 50000 and frequency_btyd < 2000\")\n",
        "\n",
        "plot_data = [\n",
        "    go.Scatter(\n",
        "        x=t6_graph.query(\"Segment == 'Low-Value'\")['frequency_btyd'],\n",
        "        y=t6_graph.query(\"Segment == 'Low-Value'\")['target_monetary'],\n",
        "        mode='markers',\n",
        "        name='Low',\n",
        "        marker= dict(size= 7,\n",
        "            line= dict(width=1),\n",
        "            color= 'blue',\n",
        "            opacity= 0.8\n",
        "           )\n",
        "    ),\n",
        "        go.Scatter(\n",
        "        x=t6_graph.query(\"Segment == 'Mid-Value'\")['frequency_btyd'],\n",
        "        y=t6_graph.query(\"Segment == 'Mid-Value'\")['target_monetary'],\n",
        "        mode='markers',\n",
        "        name='Mid',\n",
        "        marker= dict(size= 9,\n",
        "            line= dict(width=1),\n",
        "            color= 'green',\n",
        "            opacity= 0.5\n",
        "           )\n",
        "    ),\n",
        "        go.Scatter(\n",
        "        x=t6_graph.query(\"Segment == 'High-Value'\")['frequency_btyd'],\n",
        "        y=t6_graph.query(\"Segment == 'High-Value'\")['monetary_btyd'],\n",
        "        mode='markers',\n",
        "        name='High',\n",
        "        marker= dict(size= 11,\n",
        "            line= dict(width=1),\n",
        "            color= 'red',\n",
        "            opacity= 0.9\n",
        "           )\n",
        "    ),\n",
        "]\n",
        "\n",
        "plot_layout = go.Layout(\n",
        "        yaxis= {'title': \"Revenue\"},\n",
        "        xaxis= {'title': \"Frequency\"},\n",
        "        title='Segments'\n",
        "    )\n",
        "fig = go.Figure(data=plot_data, layout=plot_layout)\n",
        "pyoff.iplot(fig)\n",
        "\n",
        "#Revenue Recency\n",
        "\n",
        "t6_graph = t6_cust.query(\"target_monetary < 50000 and frequency_btyd < 2000\")\n",
        "\n",
        "plot_data = [\n",
        "    go.Scatter(\n",
        "        x=t6_graph.query(\"Segment == 'Low-Value'\")['recency'],\n",
        "        y=t6_graph.query(\"Segment == 'Low-Value'\")['target_monetary'],\n",
        "        mode='markers',\n",
        "        name='Low',\n",
        "        marker= dict(size= 7,\n",
        "            line= dict(width=1),\n",
        "            color= 'blue',\n",
        "            opacity= 0.8\n",
        "           )\n",
        "    ),\n",
        "        go.Scatter(\n",
        "        x=t6_graph.query(\"Segment == 'Mid-Value'\")['recency'],\n",
        "        y=t6_graph.query(\"Segment == 'Mid-Value'\")['target_monetary'],\n",
        "        mode='markers',\n",
        "        name='Mid',\n",
        "        marker= dict(size= 9,\n",
        "            line= dict(width=1),\n",
        "            color= 'green',\n",
        "            opacity= 0.5\n",
        "           )\n",
        "    ),\n",
        "        go.Scatter(\n",
        "        x=t6_graph.query(\"Segment == 'High-Value'\")['recency'],\n",
        "        y=t6_graph.query(\"Segment == 'High-Value'\")['target_monetary'],\n",
        "        mode='markers',\n",
        "        name='High',\n",
        "        marker= dict(size= 11,\n",
        "            line= dict(width=1),\n",
        "            color= 'red',\n",
        "            opacity= 0.9\n",
        "           )\n",
        "    ),\n",
        "]\n",
        "\n",
        "plot_layout = go.Layout(\n",
        "        yaxis= {'title': \"Revenue\"},\n",
        "        xaxis= {'title': \"Recency\"},\n",
        "        title='Segments'\n",
        "    )\n",
        "fig = go.Figure(data=plot_data, layout=plot_layout)\n",
        "pyoff.iplot(fig)\n",
        "\n",
        "# Revenue vs Frequency\n",
        "t6_graph = t6_cust.query(\"target_monetary < 50000 and frequency_btyd < 2000\")\n",
        "\n",
        "plot_data = [\n",
        "    go.Scatter(\n",
        "        x=t6_graph.query(\"Segment == 'Low-Value'\")['recency'],\n",
        "        y=t6_graph.query(\"Segment == 'Low-Value'\")['frequency_btyd'],\n",
        "        mode='markers',\n",
        "        name='Low',\n",
        "        marker= dict(size= 7,\n",
        "            line= dict(width=1),\n",
        "            color= 'blue',\n",
        "            opacity= 0.8\n",
        "           )\n",
        "    ),\n",
        "        go.Scatter(\n",
        "        x=t6_graph.query(\"Segment == 'Mid-Value'\")['recency'],\n",
        "        y=t6_graph.query(\"Segment == 'Mid-Value'\")['frequency_btyd'],\n",
        "        mode='markers',\n",
        "        name='Mid',\n",
        "        marker= dict(size= 9,\n",
        "            line= dict(width=1),\n",
        "            color= 'green',\n",
        "            opacity= 0.5\n",
        "           )\n",
        "    ),\n",
        "        go.Scatter(\n",
        "        x=t6_graph.query(\"Segment == 'High-Value'\")['recency'],\n",
        "        y=t6_graph.query(\"Segment == 'High-Value'\")['frequency_btyd'],\n",
        "        mode='markers',\n",
        "        name='High',\n",
        "        marker= dict(size= 11,\n",
        "            line= dict(width=1),\n",
        "            color= 'red',\n",
        "            opacity= 0.9\n",
        "           )\n",
        "    ),\n",
        "]\n",
        "\n",
        "plot_layout = go.Layout(\n",
        "        yaxis= {'title': \"Frequency\"},\n",
        "        xaxis= {'title': \"Recency\"},\n",
        "        title='Segments'\n",
        "    )\n",
        "fig = go.Figure(data=plot_data, layout=plot_layout)\n",
        "pyoff.iplot(fig)"
      ],
      "execution_count": 0,
      "outputs": [
        {
          "output_type": "display_data",
          "data": {
            "text/html": [
              "<html>\n",
              "<head><meta charset=\"utf-8\" /></head>\n",
              "<body>\n",
              "    <div>\n",
              "            <script src=\"https://cdnjs.cloudflare.com/ajax/libs/mathjax/2.7.5/MathJax.js?config=TeX-AMS-MML_SVG\"></script><script type=\"text/javascript\">if (window.MathJax) {MathJax.Hub.Config({SVG: {font: \"STIX-Web\"}});}</script>\n",
              "                <script type=\"text/javascript\">window.PlotlyConfig = {MathJaxConfig: 'local'};</script>\n",
              "        <script src=\"https://cdn.plot.ly/plotly-latest.min.js\"></script>    \n",
              "            <div id=\"f2e51868-ef89-46dd-abbd-ce73f2e20b2c\" class=\"plotly-graph-div\" style=\"height:525px; width:100%;\"></div>\n",
              "            <script type=\"text/javascript\">\n",
              "                \n",
              "                    window.PLOTLYENV=window.PLOTLYENV || {};\n",
              "                    \n",
              "                if (document.getElementById(\"f2e51868-ef89-46dd-abbd-ce73f2e20b2c\")) {\n",
              "                    Plotly.newPlot(\n",
              "                        'f2e51868-ef89-46dd-abbd-ce73f2e20b2c',\n",
              "                        [{\"marker\": {\"color\": \"blue\", \"line\": {\"width\": 1}, \"opacity\": 0.8, \"size\": 7}, \"mode\": \"markers\", \"name\": \"Low\", \"type\": \"scatter\", \"x\": [4, 2, 3, 1, 3, 1, 5, 2, 1, 3, 2, 3, 5, 1, 2, 2, 8, 2, 1, 2, 1, 2, 2, 4, 2, 3, 3, 4, 2, 5, 2, 6, 4, 5, 7, 5, 1, 4, 6, 5, 1, 5, 3, 1, 1, 3, 2, 2, 13, 4, 5, 6, 1, 3, 5, 1, 2, 1, 3, 3, 9, 4, 3, 6, 3, 1, 4, 2, 3, 2, 3, 3, 2, 17, 3, 1, 3, 1, 2, 1, 2, 6, 3, 4, 4, 1, 4, 5, 2, 2, 4, 4, 1, 4, 4, 3, 7, 4, 1, 3, 4, 2, 4, 2, 6, 1, 5, 1, 21, 3, 2, 2, 3, 3, 2, 1, 4, 1, 3, 4, 5, 6, 8, 5, 2, 8, 1, 2, 3, 3, 10, 5, 8, 2, 14, 6, 2, 1, 1, 3, 1, 1, 4, 2, 2, 4, 6, 2, 1, 4, 2, 4, 5, 2, 2, 3, 2, 2, 1, 3, 2, 1, 2, 1, 5, 7, 3, 5, 1, 3, 1, 3, 2, 5, 9, 4, 1, 4, 20, 2, 5, 1, 2, 2, 1, 3, 2, 2, 4, 2, 4, 6, 1, 3, 1, 1, 3, 3, 4, 4, 1, 3, 4, 1, 2, 3, 4, 3, 3, 3, 1, 5, 4, 1, 1, 3, 2, 1, 5, 2, 4, 2, 2, 3, 5, 2, 2, 3, 5, 2, 5, 8, 1, 6, 1, 2, 4, 4, 1, 2, 12, 1, 4, 2, 1, 1, 3, 3, 6, 2, 2, 4, 1, 1, 1, 2, 1, 3, 5, 10, 5, 1, 5, 4, 1, 4, 1, 2, 9, 5, 3, 4, 1, 2, 1, 2, 1, 3, 1, 1, 2, 3, 1, 3, 1, 1, 6, 2, 2, 4, 8, 3, 6, 8, 4, 1, 2, 1, 3, 3, 7, 3, 1, 1, 2, 1, 4, 1, 4, 2, 1, 7, 4, 2, 5, 4, 7, 3, 6, 1, 3, 2, 4, 2, 1, 4, 10, 2, 2, 2, 2, 2, 16, 4, 2, 2, 5, 4, 6, 5, 2, 6, 1, 1, 4, 3, 6, 2, 2, 3, 1, 2, 5, 14, 2, 6, 5, 8, 4, 4, 5, 3, 3, 5, 2, 2, 3, 6, 2, 2, 3, 4, 4, 5, 2, 3, 4, 4, 2, 2, 4, 2, 6, 6, 3, 5, 4, 5, 3, 6, 1, 1, 6, 2, 1, 4, 3, 4, 1, 1, 1, 4, 4, 1, 1, 3, 1, 1, 1, 5, 2, 6, 2, 2, 1, 1, 1, 1, 3, 4, 1, 1, 5, 1, 1, 1, 6, 4, 2, 3, 2, 3, 2, 2, 1, 4, 4, 2, 5, 2, 2, 5, 1, 1, 6, 1, 5, 1, 2, 8, 2, 1, 1, 4, 1, 5, 1, 5, 3, 3, 5, 3, 1, 1, 5, 6, 1, 6, 1, 4, 1, 3, 1, 6, 3, 2, 3, 3, 4, 2, 3, 5, 3, 2, 2, 3, 5, 1, 1, 6, 4, 8, 3, 2, 3, 2, 5, 3, 7, 2, 2, 3, 3, 2, 5, 3, 1, 4, 1, 5, 4, 1, 3, 2, 1, 4, 5, 2, 4, 2, 2, 3, 3, 6, 1, 1, 4, 13, 6, 8, 2, 3, 4, 6, 1, 4, 7, 3, 1, 2, 3, 3, 6, 2, 6, 3, 2, 1, 1, 5, 5, 2, 3, 1, 3, 4, 6, 11, 9, 1, 4, 10, 3, 2, 4, 5, 6, 7, 1, 2, 2, 1, 2, 4, 1, 1, 4, 1, 2, 6, 1, 3, 1, 2, 1, 2, 1, 1, 2, 3, 1, 2, 1, 2, 5, 2, 3, 7, 4, 4, 2, 2, 6, 2, 2, 2, 1, 2, 1, 1, 2, 6, 2, 7, 1, 3, 5, 6, 2, 5, 3, 6, 2, 2, 1, 1, 1, 6, 9, 2, 2, 5, 2, 4, 1, 1, 3, 5, 2, 2, 4, 2, 4, 6, 1, 6, 1, 3, 3, 6, 3, 2, 1, 3, 2, 2, 6, 1, 5, 1, 2, 3, 5, 4, 2, 2, 1, 4, 3, 8, 1, 1, 3, 5, 6, 6, 5, 2, 6, 4, 4, 2, 2, 1, 1, 1, 1, 2, 6, 1, 2, 1, 3, 2, 4, 3, 2, 3, 2, 1, 4, 5, 1, 1, 3, 2, 1, 4, 2, 2, 1, 2, 1, 5, 5, 3, 6, 5, 2, 5, 8, 2, 3, 2, 3, 5, 1, 2, 2, 1, 3, 3, 2, 2, 3, 3, 1, 4, 2, 2, 3, 2, 2, 6, 1, 2, 6, 3, 2, 2, 2, 1, 5, 2, 1, 1, 3, 2, 6, 2, 1, 1, 3, 1, 2, 4, 1, 4, 2, 2, 5, 2, 3, 2, 3, 1, 3, 3, 1, 2, 1, 5, 3, 2, 1, 6, 1, 1, 5, 2, 3, 2, 7, 4, 2, 1, 1, 4, 2, 1, 1, 4, 16, 3, 8, 3, 2, 5, 1, 2, 6, 2, 6, 5, 4, 2, 2, 2, 4, 5, 2, 15, 2, 2, 3, 6, 1, 3, 2, 3, 3, 2, 2, 6, 9, 1, 5, 2, 1, 3, 1, 6, 5, 1, 4, 1, 2, 2, 2, 2, 2, 3, 5, 3, 2, 1, 2, 1, 5, 4, 1, 3, 5, 1, 2, 5, 5, 2, 1, 3, 5, 1, 4, 13, 2, 1, 2, 1, 1, 3, 1, 4, 4, 1, 3, 6, 3, 1, 5, 6, 2, 1, 1, 3, 5, 1, 3, 2, 3, 2, 5, 3, 2, 1, 6, 2, 1, 4, 5, 2, 2, 3, 1, 5, 3, 1, 5, 3, 4, 6, 2, 3, 6, 4, 2, 2, 4, 4, 4, 3, 1, 3, 6, 3, 1, 6, 1, 1, 1, 6, 3, 6, 1, 5, 1, 2, 2, 1, 6, 1, 3, 6, 1, 7, 2, 3, 6, 3, 3, 3, 1, 6, 8, 2, 2, 5, 3, 3, 2, 4, 1, 4, 6, 2, 2, 2, 2, 6, 4, 3, 2, 1, 7, 7, 1, 2, 1, 5, 1, 2, 6, 9, 2, 4, 8, 1, 5, 2, 4, 2, 4, 4, 3, 4, 5, 4, 2, 4, 3, 1, 6, 4, 2, 9, 1, 2, 3, 4, 4, 1, 2, 3, 2, 6, 1, 1, 5, 1, 4, 1, 2, 2, 2, 4, 3, 2, 3, 3, 2, 1, 2, 6, 2, 1, 2, 4, 2, 1, 1, 4, 9, 2, 2, 1, 2, 4, 5, 2, 1, 1, 1, 6, 4, 2, 6, 1, 1, 6, 3, 4, 6, 2, 2, 1, 1, 1, 2, 2, 1, 5, 11, 2, 3, 3, 1, 2, 1, 6, 3, 9, 6, 3, 1, 3, 2, 1, 4, 6, 1, 4, 1], \"y\": [4310.0, 1797.24, 1545.41, 2811.43, 6245.53, 2662.06, 5154.58, 3545.69, 1298.04, 2780.66, 1582.6, 1708.12, 2842.57, 1226.88, 694.15, 806.27, 7877.2, 3750.4, 5059.32, 13375.87, 5005.46, 4067.29, 8933.52, 2466.86, 3153.89, 1917.78, 1303.63, 1212.05, 2848.23, 13117.01, 3281.63, 5590.86, 4495.27, 5417.93, 1139.35, 4206.27, 2464.89, 2582.51, 1745.57, 4485.72, 348.71, 1922.28, 1623.63, 3852.5, 981.18, 11990.96, 2101.39, 3781.74, 4064.99, 1306.98, 1893.95, 3320.22, 3683.13, 3002.68, 1032.58, 1126.85, 2057.99, 3218.98, 657.25, 3214.81, 6388.35, 4478.53, 2140.63, 5953.25, 1755.38, 601.98, 3982.72, 4863.88, 3743.18, 2986.15, 1919.31, 1331.39, 1058.67, 13677.59, 2283.63, 2863.08, 1035.8, 582.1, 939.02, 4867.99, 2220.84, 6814.24, 4708.86, 2628.98, 904.33, 1031.41, 2609.1, 3947.7, 836.33, 9120.39, 3868.2, 4227.7, 1531.44, 6989.63, 1351.24, 804.23, 3868.7, 2273.32, 483.65, 1759.5, 1468.12, 1018.71, 6748.4, 2612.86, 1680.76, 1289.15, 3986.22, 841.64, 16293.1, 2128.83, 3075.04, 2483.63, 1301.44, 929.95, 2062.7, 606.28, 2156.45, 1504.27, 11581.8, 2053.7, 4143.02, 1042.07, 4734.26, 3979.04, 1194.75, 6854.51, 409.5, 414.76, 902.22, 1197.94, 9797.92, 1311.62, 3365.43, 3346.28, 7272.75, 2584.4, 936.15, 1247.5, 908.46, 1805.91, 1119.49, 729.27, 459.83, 1098.48, 1524.07, 1452.87, 984.91, 1125.0, 3866.33, 2056.29, 1740.63, 2545.38, 3605.08, 962.39, 5055.79, 2385.8, 614.77, 1676.06, 971.76, 1721.57, 1379.75, 791.33, 1310.14, 2817.03, 3957.78, 1648.79, 1539.69, 3384.09, 869.46, 1217.42, 1197.42, 1518.43, 819.29, 6083.04, 2652.97, 1357.6, 680.83, 1922.1, 7454.07, 2107.66, 3167.64, 258.4, 1047.84, 2709.12, 1456.79, 1083.63, 1555.32, 5815.49, 2140.07, 1491.7, 7072.8, 3617.57, 3536.82, 10736.48, 3085.49, 3312.25, 3626.81, 4122.28, 2312.8, 1539.18, 572.45, 988.91, 3550.7, 582.6, 3794.49, 3408.06, 3465.67, 2043.72, 2916.45, 1737.82, 1445.0, 1441.53, 1776.81, 1122.41, 575.4, 1990.12, 1146.96, 292.0, 4282.88, 2479.16, 979.72, 1785.16, 891.12, 2109.07, 3487.75, 3755.38, 680.18, 2263.76, 1280.85, 605.84, 916.12, 3539.53, 1799.33, 2092.32, 732.07, 1658.3, 2445.12, 1976.12, 1117.13, 247.96, 5030.6, 280.54, 1115.43, 1158.2, 1610.46, 544.18, 672.44, 1624.02, 1995.68, 2117.02, 1575.16, 941.62, 810.5, 519.44, 1670.22, 1809.34, 1095.08, 2707.33, 879.08, 2504.13, 2265.12, 711.86, 6249.11, 1432.26, 1041.68, 1016.14, 2766.18, 666.33, 3102.42, 1340.15, 1647.26, 3190.55, 1521.76, 2631.7, 1132.13, 912.0, 1047.68, 2635.79, 1747.66, 1562.12, 4014.91, 1698.94, 412.05, 2202.99, 834.57, 691.73, 3385.62, 847.61, 501.56, 2751.25, 6389.8, 1786.79, 3219.77, 16989.52, 2538.75, 781.3, 1860.86, 2588.12, 2867.2, 2347.05, 2580.91, 616.65, 464.57, 1230.93, 556.75, 839.14, 4912.41, 561.57, 3515.68, 1026.42, 598.2, 2702.22, 2503.23, 1861.11, 2590.46, 488.03, 7024.53, 4098.8, 3409.66, 2313.14, 1383.49, 2030.33, 4582.64, 2874.72, 1398.96, 2360.09, 2929.84, 1428.02, 1554.48, 652.82, 1290.01, 5639.15, 8127.85, 1188.32, 1307.41, 499.42, 1018.43, 5976.79, 2688.48, 5669.65, 688.6, 2774.17, 1382.74, 1123.86, 3580.13, 3148.2, 4678.3, 2445.91, 574.84, 3108.06, 554.46, 1620.93, 2018.91, 11216.75, 663.5, 688.04, 2067.13, 2208.3, 1000.23, 1777.92, 3427.85, 2201.64, 1450.6, 2043.93, 1447.51, 3093.86, 3087.27, 12650.08, 2618.23, 559.97, 1019.39, 911.26, 3873.3, 4819.33, 1046.56, 2995.72, 1611.59, 2456.98, 1530.75, 1614.91, 2166.38, 607.71, 9167.82, 3172.04, 4592.47, 3471.91, 1434.72, 2606.53, 1908.25, 576.3, 1058.06, 4263.64, 3918.9, 1230.14, 2357.68, 1545.14, 1544.62, 1400.88, 1163.23, 907.1, 3047.63, 2272.4, 799.82, 1307.81, 2068.15, 1957.32, 815.32, 356.85, 190.31, 2351.02, 673.26, 5818.7, 2012.17, 1368.18, 1267.41, 1055.35, 2102.09, 974.54, 1867.68, 2925.91, 1812.62, 2841.09, 1461.65, 2487.02, 859.27, 1080.76, 4709.22, 2803.69, 859.71, 1052.55, 601.56, 1765.76, 869.35, 2757.07, 1006.98, 2952.34, 2042.15, 838.27, 2456.53, 771.17, 1258.38, 2543.24, 1236.28, 2114.33, 2070.97, 2235.3, 2486.22, 1546.91, 1096.67, 2838.2, 867.38, 1592.18, 1158.3, 2005.06, 380.02, 2686.34, 1164.55, 1289.94, 3899.1, 1400.34, 1088.53, 1311.79, 1625.97, 254.11, 2423.07, 10641.6, 1011.9, 2195.58, 745.06, 1272.11, 173.74, 2175.37, 657.8, 2226.91, 644.65, 1698.35, 1641.2, 3295.76, 2456.8, 3189.81, 2836.69, 2749.89, 14197.45, 2939.64, 522.38, 1448.72, 1485.54, 706.19, 756.64, 1228.32, 1414.99, 2744.48, 3478.85, 1227.43, 1264.84, 8117.42, 5842.95, 1066.57, 7912.79, 684.97, 1592.06, 765.86, 1931.42, 456.26, 1872.28, 1661.33, 469.0, 1051.95, 668.14, 2571.02, 4277.66, 465.55, 665.59, 380.57, 697.79, 2124.99, 1325.82, 987.86, 3135.98, 487.35, 2420.84, 1407.73, 970.25, 2760.56, 1352.75, 1550.13, 1612.13, 11117.05, 1419.54, 3447.4, 977.93, 1387.99, 2350.0, 6564.84, 1194.73, 5303.97, 4684.24, 1869.5, 843.05, 1624.05, 2186.2, 680.28, 4670.08, 1268.7, 927.84, 1827.8, 420.3, 867.62, 1661.44, 5756.89, 1758.92, 1219.4, 3376.96, 1412.32, 1056.54, 1685.57, 1738.59, 6657.36, 10327.11, 1717.36, 2298.2, 2239.95, 2306.52, 935.1, 3610.31, 3774.1, 3787.09, 680.3, 1174.35, 921.1, 1005.5, 1330.45, 1867.69, 2360.55, 1233.36, 1682.36, 5927.86, 2183.54, 1056.44, 3450.84, 1346.38, 3974.37, 950.36, 1429.9, 417.87, 997.48, 383.68, 3212.16, 971.22, 1388.37, 511.88, 6568.72, 2575.0, 1967.25, 5541.46, 3497.14, 2963.19, 1911.89, 2574.65, 2348.82, 1502.35, 1517.08, 4954.84, 1655.76, 575.63, 722.74, 1319.69, 2552.86, 682.91, 913.68, 1767.53, 1083.63, 1198.23, 2422.64, 747.03, 1524.4, 2865.64, 3147.31, 748.5, 1552.01, 677.69, 2635.49, 2881.02, 1744.02, 323.69, 781.28, 946.36, 2981.5, 6423.6, 1072.36, 2181.21, 5178.96, 1108.38, 1121.21, 784.46, 974.04, 2451.23, 2628.93, 2318.88, 532.96, 3245.47, 333.56, 2303.75, 2666.61, 884.14, 3848.55, 784.58, 399.21, 1119.99, 2171.32, 2100.6, 1905.45, 747.76, 2084.9, 954.09, 1209.1, 3650.87, 1438.85, 977.21, 3000.36, 832.88, 1769.78, 4330.67, 1384.68, 5126.34, 1521.79, 967.45, 1232.18, 1491.24, 2461.85, 1705.26, 806.57, 1634.53, 4397.81, 4199.85, 3429.55, 3408.48, 1475.02, 2816.97, 1451.28, 1044.78, 3084.17, 2735.37, 615.39, 1701.94, 1415.29, 653.13, 1483.31, 3450.24, 719.81, 454.33, 1313.55, 1147.37, 773.99, 2140.22, 1459.86, 1153.62, 2173.53, 2806.9, 981.51, 1119.31, 2005.63, 731.9, 1842.14, 1429.64, 3204.16, 1337.48, 1667.97, 684.42, 6287.77, 1880.22, 3506.54, 635.41, 2419.84, 1906.07, 1824.23, 3024.62, 1880.42, 6617.65, 1155.54, 6841.24, 981.86, 589.15, 537.06, 2262.62, 3054.87, 864.86, 1295.3, 1096.32, 983.23, 422.13, 858.41, 3598.26, 1352.36, 1800.07, 5203.51, 746.83, 861.89, 1423.29, 1531.51, 2236.74, 5305.83, 2560.0, 2755.56, 230.7, 510.54, 3085.96, 3844.22, 1583.2, 322.41, 1469.45, 658.88, 1540.42, 1320.56, 555.89, 1362.27, 1412.06, 1486.9, 2126.93, 2028.88, 675.27, 1908.25, 1522.25, 616.79, 638.77, 1841.18, 102.0, 1603.46, 757.44, 544.3, 2494.46, 492.2, 1329.66, 1562.22, 2965.69, 950.26, 1627.13, 1244.59, 6748.8, 1388.81, 4154.64, 3313.79, 614.01, 1285.22, 459.24, 4073.28, 330.03, 813.52, 5450.96, 1187.66, 2630.64, 813.48, 4379.65, 2183.04, 2878.15, 1124.59, 1169.38, 6654.26, 3794.52, 933.62, 810.45, 306.72, 8093.59, 1558.72, 3013.83, 1770.34, 1028.0, 3043.48, 531.35, 3029.87, 2483.04, 1651.03, 3645.43, 3278.36, 1773.92, 1382.02, 1054.67, 702.79, 2269.21, 2191.84, 1304.76, 7170.7, 1515.9, 623.93, 2758.25, 5580.6, 458.04, 744.9, 2246.81, 654.92, 1706.28, 1210.89, 912.74, 1692.98, 1446.95, 1106.53, 1774.62, 1260.44, 805.62, 2761.49, 680.02, 7066.31, 2023.47, 853.72, 1519.08, 705.12, 809.7, 444.46, 1281.56, 3085.48, 579.77, 981.65, 2528.67, 621.68, 1043.34, 1295.39, 1903.13, 3049.88, 1894.11, 1161.27, 1178.56, 2085.08, 2148.47, 650.41, 1809.05, 1920.2, 5461.62, 1625.05, 1133.25, 1601.86, 1427.46, 1487.78, 877.43, 8574.11, 1272.61, 95.85, 877.09, 1030.14, 1065.77, 1044.38, 1735.18, 5594.78, 1353.83, 1179.89, 3095.04, 5171.57, 1421.59, 859.35, 2655.22, 2385.48, 813.77, 841.08, 1991.01, 2041.85, 3802.81, 1777.78, 1088.2, 992.68, 941.17, 10380.43, 747.22, 806.9, 4892.24, 1139.73, 10585.57, 1679.64, 1266.97, 3518.03, 1707.21, 2466.4, 3755.65, 1430.94, 780.38, 2275.58, 2095.13, 692.22, 2299.67, 984.12, 1960.72, 3198.25, 939.32, 1906.09, 3127.82, 916.13, 1253.36, 2144.53, 1641.68, 1064.11, 1419.73, 1875.11, 669.11, 1119.93, 2514.76, 908.99, 990.23, 6612.18, 537.74, 587.15, 488.2, 4455.73, 4801.56, 1349.52, 446.18, 1342.68, 646.92, 2686.42, 1259.56, 7330.8, 2633.85, 1214.72, 1258.06, 6838.34, 598.83, 1853.13, 5022.26, 2504.86, 452.63, 1881.36, 1843.06, 1125.07, 414.04, 3541.92, 2920.04, 639.02, 768.08, 1839.07, 1070.71, 709.9, 888.86, 2385.0, 1952.45, 1107.38, 4012.56, 1498.51, 226.75, 440.2, 2404.17, 2215.02, 3911.56, 2827.93, 5050.77, 1103.92, 1992.76, 4509.37, 971.58, 1336.1, 2047.0, 1784.12, 528.33, 1242.34, 2361.97, 2768.98, 1789.55, 3886.67, 4737.13, 1175.88, 2571.74, 1674.69, 1788.27, 2055.51, 3406.72, 1284.08, 1622.22, 1383.27, 2459.33, 3191.53, 5739.46, 2508.89, 1719.72, 798.74, 1781.12, 5505.79, 1195.94, 3371.13, 700.63, 1863.35, 2786.05, 2291.08, 1797.57, 1739.92, 3456.7, 3966.84, 697.9, 1199.01, 1251.84, 36.56, 3661.07, 1995.46, 1599.97, 398.7, 1560.53, 2312.7, 1393.79, 2059.2, 3160.0, 622.75, 1889.4, 1764.36, 717.45, 899.61, 525.78, 1119.81, 800.24, 341.28, 826.52, 2894.33, 834.5, 1740.48, 1331.57, 4301.22, 1983.58, 990.84, 1098.43, 737.81, 191.17, 1676.18, 2116.19, 1483.56, 523.0, 405.62, 559.51, 2085.65, 2380.08, 2021.82, 2633.01, 3651.97, 343.45, 9065.76, 3017.3, 2692.85, 1418.03, 1141.34, 761.83, 2861.55, 612.08, 566.58, 347.82, 1612.79, 980.31, 1208.51, 7490.17, 2106.84, 1333.17, 1793.17, 1843.75, 1979.3, 600.07, 2019.77, 1033.31, 5192.1, 2716.6, 582.47, 1796.48, 882.24, 987.1, 2232.49, 2507.56, 2244.98, 1211.08, 3064.78, 204.0]}, {\"marker\": {\"color\": \"green\", \"line\": {\"width\": 1}, \"opacity\": 0.5, \"size\": 9}, \"mode\": \"markers\", \"name\": \"Mid\", \"type\": \"scatter\", \"x\": [9, 8, 7, 12, 9, 26, 8, 16, 8, 7, 11, 7, 7, 9, 8, 15, 8, 7, 7, 17, 12, 11, 17, 13, 14, 7, 7, 7, 9, 16, 8, 24, 50, 14, 9, 10, 19, 15, 24, 9, 12, 7, 16, 17, 8, 7, 20, 7, 11, 14, 8, 7, 19, 12, 16, 29, 11, 8, 28, 14, 7, 15, 8, 7, 33, 11, 8, 23, 7, 9, 10, 11, 9, 17, 11, 13, 8, 11, 10, 7, 8, 25, 14, 7, 12, 7, 9, 11, 8, 10, 7, 7, 7, 9, 9, 8, 7, 7, 44, 13, 13, 14, 7, 66, 16, 15, 8, 9, 8, 11, 14, 7, 13, 7, 9, 11, 9, 8, 19, 7, 33, 10, 11, 19, 7, 13, 37, 16, 9, 12, 13, 8, 7, 14, 8, 14, 15, 13, 7, 7, 9, 8, 12, 8, 15, 7, 10, 8, 7, 11, 14, 9, 15, 7, 15, 11, 13, 11, 13, 29, 14, 12, 16, 7, 8, 9, 8, 8, 7, 12, 8, 8, 10, 10, 12, 22, 16, 9, 9, 9, 14, 9, 13, 13, 11, 11, 11, 15, 10, 7, 16, 13, 15, 10, 7, 23, 10, 12, 13, 15, 13, 8, 7, 14, 8, 8, 15, 13, 26, 7, 7, 9, 17, 7, 18, 7, 12, 11, 9, 9, 28, 19, 9, 10, 11, 14, 8, 14, 19, 9, 7, 8, 25, 7, 8, 14, 8, 8, 27, 10, 10, 14, 7, 7, 11, 18, 19, 7, 16, 14, 10, 13, 11, 8, 9, 10, 22, 38, 20, 37, 13, 12, 24, 9, 29, 7, 12], \"y\": [2998.28, 3578.8, 1849.11, 6416.39, 4896.66, 18740.92, 6229.48, 7116.47, 6546.58, 2327.13, 13309.04, 3656.15, 9114.94, 7187.34, 2581.04, 13612.07, 3669.92, 3817.08, 17588.26, 12288.22, 8221.09, 2616.32, 9294.1, 4241.63, 5713.28, 18793.41, 4196.01, 21024.01, 5583.62, 3876.4, 1535.77, 16389.74, 10851.66, 5613.43, 4786.99, 3089.1, 5684.61, 3740.52, 12432.28, 8689.39, 1708.86, 5893.32, 6336.29, 10463.58, 3348.48, 5725.47, 9803.96, 5820.16, 3717.67, 4404.44, 5315.92, 2000.86, 10664.34, 5845.44, 9537.92, 5656.75, 8910.61, 1215.82, 5613.08, 6703.3, 7792.36, 6216.07, 1809.81, 5145.12, 16945.71, 2771.87, 2462.79, 8025.02, 2187.31, 8986.69, 3865.26, 14634.64, 3542.19, 15477.34, 6147.4, 6135.38, 10464.85, 4435.79, 4063.1, 3092.97, 4690.31, 4640.77, 4604.31, 4660.01, 1925.36, 3315.71, 2323.5, 2535.88, 3729.34, 2855.35, 2319.68, 4928.74, 2539.46, 2556.68, 4039.98, 5811.56, 1965.9, 4221.37, 7711.38, 4075.35, 2916.17, 2174.18, 1598.24, 11713.85, 9231.2, 5107.38, 3250.64, 4911.14, 2664.26, 9451.54, 5807.69, 4965.38, 7839.51, 4316.61, 2087.88, 7904.28, 11020.26, 7006.58, 6180.49, 6763.16, 19786.44, 7629.38, 5064.01, 9623.35, 4410.14, 18573.68, 15802.14, 7521.17, 2485.82, 7803.77, 4596.51, 5028.12, 2766.5, 8234.8, 2213.11, 6945.02, 12396.46, 14520.08, 3967.78, 3542.51, 4758.2, 4109.97, 6745.36, 1568.39, 10360.04, 3224.53, 12433.34, 2644.46, 3329.72, 5043.96, 4788.77, 5452.17, 1641.48, 2974.65, 16173.67, 3797.79, 6102.26, 3362.71, 8727.61, 14305.66, 3741.98, 5352.97, 3770.6, 3991.94, 4908.77, 21086.3, 2607.87, 2609.3, 5423.15, 6675.71, 1460.37, 2941.05, 4061.24, 3482.74, 9304.27, 11895.57, 8257.04, 3622.95, 3083.67, 1676.47, 8568.24, 4022.46, 5040.0, 5150.27, 13946.13, 6840.23, 4711.21, 7076.28, 6694.31, 1695.66, 10454.05, 2242.25, 6500.6, 3317.97, 3167.73, 15357.78, 10183.82, 3754.27, 6746.83, 2781.5, 4604.22, 4345.5, 3989.57, 4535.64, 2741.08, 3744.65, 8628.55, 8600.73, 6204.46, 11891.18, 2611.58, 3925.92, 20272.43, 4200.97, 17078.45, 2210.26, 3457.78, 10736.11, 3947.87, 2954.75, 20098.1, 16219.22, 4748.45, 2201.05, 10097.37, 5367.8, 5288.83, 13110.02, 5585.49, 1965.55, 3026.08, 4627.62, 7677.71, 901.2, 5155.66, 10158.54, 4204.1, 2295.37, 1296.44, 2622.57, 4393.61, 4161.14, 6752.14, 2119.41, 2538.72, 7925.32, 5595.77, 2888.75, 5083.06, 6315.23, 5361.02, 7276.9, 2058.09, 2094.88, 33462.81, 27964.48, 28658.88, 27487.41, 25748.35, 36351.42, 26390.46, 33350.76, 33366.25, 26626.8, 31300.08, 30358.42, 26763.34]}, {\"marker\": {\"color\": \"red\", \"line\": {\"width\": 1}, \"opacity\": 0.9, \"size\": 11}, \"mode\": \"markers\", \"name\": \"High\", \"type\": \"scatter\", \"x\": [72, 53, 76], \"y\": [189.38916666666665, 501.675283018868, 296.88513157894727]}],\n",
              "                        {\"template\": {\"data\": {\"bar\": [{\"error_x\": {\"color\": \"#2a3f5f\"}, \"error_y\": {\"color\": \"#2a3f5f\"}, \"marker\": {\"line\": {\"color\": \"#E5ECF6\", \"width\": 0.5}}, \"type\": \"bar\"}], \"barpolar\": [{\"marker\": {\"line\": {\"color\": \"#E5ECF6\", \"width\": 0.5}}, \"type\": \"barpolar\"}], \"carpet\": [{\"aaxis\": {\"endlinecolor\": \"#2a3f5f\", \"gridcolor\": \"white\", \"linecolor\": \"white\", \"minorgridcolor\": \"white\", \"startlinecolor\": \"#2a3f5f\"}, \"baxis\": {\"endlinecolor\": \"#2a3f5f\", \"gridcolor\": \"white\", \"linecolor\": \"white\", \"minorgridcolor\": \"white\", \"startlinecolor\": \"#2a3f5f\"}, \"type\": \"carpet\"}], \"choropleth\": [{\"colorbar\": {\"outlinewidth\": 0, \"ticks\": \"\"}, \"type\": \"choropleth\"}], \"contour\": [{\"colorbar\": {\"outlinewidth\": 0, \"ticks\": \"\"}, \"colorscale\": [[0.0, \"#0d0887\"], [0.1111111111111111, \"#46039f\"], [0.2222222222222222, \"#7201a8\"], [0.3333333333333333, \"#9c179e\"], [0.4444444444444444, \"#bd3786\"], [0.5555555555555556, \"#d8576b\"], [0.6666666666666666, \"#ed7953\"], [0.7777777777777778, \"#fb9f3a\"], [0.8888888888888888, \"#fdca26\"], [1.0, \"#f0f921\"]], \"type\": \"contour\"}], \"contourcarpet\": [{\"colorbar\": {\"outlinewidth\": 0, \"ticks\": \"\"}, \"type\": \"contourcarpet\"}], \"heatmap\": [{\"colorbar\": {\"outlinewidth\": 0, \"ticks\": \"\"}, \"colorscale\": [[0.0, \"#0d0887\"], [0.1111111111111111, \"#46039f\"], [0.2222222222222222, \"#7201a8\"], [0.3333333333333333, \"#9c179e\"], [0.4444444444444444, \"#bd3786\"], [0.5555555555555556, \"#d8576b\"], [0.6666666666666666, \"#ed7953\"], [0.7777777777777778, \"#fb9f3a\"], [0.8888888888888888, \"#fdca26\"], [1.0, \"#f0f921\"]], \"type\": \"heatmap\"}], \"heatmapgl\": [{\"colorbar\": {\"outlinewidth\": 0, \"ticks\": \"\"}, \"colorscale\": [[0.0, \"#0d0887\"], [0.1111111111111111, \"#46039f\"], [0.2222222222222222, \"#7201a8\"], [0.3333333333333333, \"#9c179e\"], [0.4444444444444444, \"#bd3786\"], [0.5555555555555556, \"#d8576b\"], [0.6666666666666666, \"#ed7953\"], [0.7777777777777778, \"#fb9f3a\"], [0.8888888888888888, \"#fdca26\"], [1.0, \"#f0f921\"]], \"type\": \"heatmapgl\"}], \"histogram\": [{\"marker\": {\"colorbar\": {\"outlinewidth\": 0, \"ticks\": \"\"}}, \"type\": \"histogram\"}], \"histogram2d\": [{\"colorbar\": {\"outlinewidth\": 0, \"ticks\": \"\"}, \"colorscale\": [[0.0, \"#0d0887\"], [0.1111111111111111, \"#46039f\"], [0.2222222222222222, \"#7201a8\"], [0.3333333333333333, \"#9c179e\"], [0.4444444444444444, \"#bd3786\"], [0.5555555555555556, \"#d8576b\"], [0.6666666666666666, \"#ed7953\"], [0.7777777777777778, \"#fb9f3a\"], [0.8888888888888888, \"#fdca26\"], [1.0, \"#f0f921\"]], \"type\": \"histogram2d\"}], \"histogram2dcontour\": [{\"colorbar\": {\"outlinewidth\": 0, \"ticks\": \"\"}, \"colorscale\": [[0.0, \"#0d0887\"], [0.1111111111111111, \"#46039f\"], [0.2222222222222222, \"#7201a8\"], [0.3333333333333333, \"#9c179e\"], [0.4444444444444444, \"#bd3786\"], [0.5555555555555556, \"#d8576b\"], [0.6666666666666666, \"#ed7953\"], [0.7777777777777778, \"#fb9f3a\"], [0.8888888888888888, \"#fdca26\"], [1.0, \"#f0f921\"]], \"type\": \"histogram2dcontour\"}], \"mesh3d\": [{\"colorbar\": {\"outlinewidth\": 0, \"ticks\": \"\"}, \"type\": \"mesh3d\"}], \"parcoords\": [{\"line\": {\"colorbar\": {\"outlinewidth\": 0, \"ticks\": \"\"}}, \"type\": \"parcoords\"}], \"pie\": [{\"automargin\": true, \"type\": \"pie\"}], \"scatter\": [{\"marker\": {\"colorbar\": {\"outlinewidth\": 0, \"ticks\": \"\"}}, \"type\": \"scatter\"}], \"scatter3d\": [{\"line\": {\"colorbar\": {\"outlinewidth\": 0, \"ticks\": \"\"}}, \"marker\": {\"colorbar\": {\"outlinewidth\": 0, \"ticks\": \"\"}}, \"type\": \"scatter3d\"}], \"scattercarpet\": [{\"marker\": {\"colorbar\": {\"outlinewidth\": 0, \"ticks\": \"\"}}, \"type\": \"scattercarpet\"}], \"scattergeo\": [{\"marker\": {\"colorbar\": {\"outlinewidth\": 0, \"ticks\": \"\"}}, \"type\": \"scattergeo\"}], \"scattergl\": [{\"marker\": {\"colorbar\": {\"outlinewidth\": 0, \"ticks\": \"\"}}, \"type\": \"scattergl\"}], \"scattermapbox\": [{\"marker\": {\"colorbar\": {\"outlinewidth\": 0, \"ticks\": \"\"}}, \"type\": \"scattermapbox\"}], \"scatterpolar\": [{\"marker\": {\"colorbar\": {\"outlinewidth\": 0, \"ticks\": \"\"}}, \"type\": \"scatterpolar\"}], \"scatterpolargl\": [{\"marker\": {\"colorbar\": {\"outlinewidth\": 0, \"ticks\": \"\"}}, \"type\": \"scatterpolargl\"}], \"scatterternary\": [{\"marker\": {\"colorbar\": {\"outlinewidth\": 0, \"ticks\": \"\"}}, \"type\": \"scatterternary\"}], \"surface\": [{\"colorbar\": {\"outlinewidth\": 0, \"ticks\": \"\"}, \"colorscale\": [[0.0, \"#0d0887\"], [0.1111111111111111, \"#46039f\"], [0.2222222222222222, \"#7201a8\"], [0.3333333333333333, \"#9c179e\"], [0.4444444444444444, \"#bd3786\"], [0.5555555555555556, \"#d8576b\"], [0.6666666666666666, \"#ed7953\"], [0.7777777777777778, \"#fb9f3a\"], [0.8888888888888888, \"#fdca26\"], [1.0, \"#f0f921\"]], \"type\": \"surface\"}], \"table\": [{\"cells\": {\"fill\": {\"color\": \"#EBF0F8\"}, \"line\": {\"color\": \"white\"}}, \"header\": {\"fill\": {\"color\": \"#C8D4E3\"}, \"line\": {\"color\": \"white\"}}, \"type\": \"table\"}]}, \"layout\": {\"annotationdefaults\": {\"arrowcolor\": \"#2a3f5f\", \"arrowhead\": 0, \"arrowwidth\": 1}, \"coloraxis\": {\"colorbar\": {\"outlinewidth\": 0, \"ticks\": \"\"}}, \"colorscale\": {\"diverging\": [[0, \"#8e0152\"], [0.1, \"#c51b7d\"], [0.2, \"#de77ae\"], [0.3, \"#f1b6da\"], [0.4, \"#fde0ef\"], [0.5, \"#f7f7f7\"], [0.6, \"#e6f5d0\"], [0.7, \"#b8e186\"], [0.8, \"#7fbc41\"], [0.9, \"#4d9221\"], [1, \"#276419\"]], \"sequential\": [[0.0, \"#0d0887\"], [0.1111111111111111, \"#46039f\"], [0.2222222222222222, \"#7201a8\"], [0.3333333333333333, \"#9c179e\"], [0.4444444444444444, \"#bd3786\"], [0.5555555555555556, \"#d8576b\"], [0.6666666666666666, \"#ed7953\"], [0.7777777777777778, \"#fb9f3a\"], [0.8888888888888888, \"#fdca26\"], [1.0, \"#f0f921\"]], \"sequentialminus\": [[0.0, \"#0d0887\"], [0.1111111111111111, \"#46039f\"], [0.2222222222222222, \"#7201a8\"], [0.3333333333333333, \"#9c179e\"], [0.4444444444444444, \"#bd3786\"], [0.5555555555555556, \"#d8576b\"], [0.6666666666666666, \"#ed7953\"], [0.7777777777777778, \"#fb9f3a\"], [0.8888888888888888, \"#fdca26\"], [1.0, \"#f0f921\"]]}, \"colorway\": [\"#636efa\", \"#EF553B\", \"#00cc96\", \"#ab63fa\", \"#FFA15A\", \"#19d3f3\", \"#FF6692\", \"#B6E880\", \"#FF97FF\", \"#FECB52\"], \"font\": {\"color\": \"#2a3f5f\"}, \"geo\": {\"bgcolor\": \"white\", \"lakecolor\": \"white\", \"landcolor\": \"#E5ECF6\", \"showlakes\": true, \"showland\": true, \"subunitcolor\": \"white\"}, \"hoverlabel\": {\"align\": \"left\"}, \"hovermode\": \"closest\", \"mapbox\": {\"style\": \"light\"}, \"paper_bgcolor\": \"white\", \"plot_bgcolor\": \"#E5ECF6\", \"polar\": {\"angularaxis\": {\"gridcolor\": \"white\", \"linecolor\": \"white\", \"ticks\": \"\"}, \"bgcolor\": \"#E5ECF6\", \"radialaxis\": {\"gridcolor\": \"white\", \"linecolor\": \"white\", \"ticks\": \"\"}}, \"scene\": {\"xaxis\": {\"backgroundcolor\": \"#E5ECF6\", \"gridcolor\": \"white\", \"gridwidth\": 2, \"linecolor\": \"white\", \"showbackground\": true, \"ticks\": \"\", \"zerolinecolor\": \"white\"}, \"yaxis\": {\"backgroundcolor\": \"#E5ECF6\", \"gridcolor\": \"white\", \"gridwidth\": 2, \"linecolor\": \"white\", \"showbackground\": true, \"ticks\": \"\", \"zerolinecolor\": \"white\"}, \"zaxis\": {\"backgroundcolor\": \"#E5ECF6\", \"gridcolor\": \"white\", \"gridwidth\": 2, \"linecolor\": \"white\", \"showbackground\": true, \"ticks\": \"\", \"zerolinecolor\": \"white\"}}, \"shapedefaults\": {\"line\": {\"color\": \"#2a3f5f\"}}, \"ternary\": {\"aaxis\": {\"gridcolor\": \"white\", \"linecolor\": \"white\", \"ticks\": \"\"}, \"baxis\": {\"gridcolor\": \"white\", \"linecolor\": \"white\", \"ticks\": \"\"}, \"bgcolor\": \"#E5ECF6\", \"caxis\": {\"gridcolor\": \"white\", \"linecolor\": \"white\", \"ticks\": \"\"}}, \"title\": {\"x\": 0.05}, \"xaxis\": {\"automargin\": true, \"gridcolor\": \"white\", \"linecolor\": \"white\", \"ticks\": \"\", \"title\": {\"standoff\": 15}, \"zerolinecolor\": \"white\", \"zerolinewidth\": 2}, \"yaxis\": {\"automargin\": true, \"gridcolor\": \"white\", \"linecolor\": \"white\", \"ticks\": \"\", \"title\": {\"standoff\": 15}, \"zerolinecolor\": \"white\", \"zerolinewidth\": 2}}}, \"title\": {\"text\": \"Segments\"}, \"xaxis\": {\"title\": {\"text\": \"Frequency\"}}, \"yaxis\": {\"title\": {\"text\": \"Revenue\"}}},\n",
              "                        {\"responsive\": true}\n",
              "                    ).then(function(){\n",
              "                            \n",
              "var gd = document.getElementById('f2e51868-ef89-46dd-abbd-ce73f2e20b2c');\n",
              "var x = new MutationObserver(function (mutations, observer) {{\n",
              "        var display = window.getComputedStyle(gd).display;\n",
              "        if (!display || display === 'none') {{\n",
              "            console.log([gd, 'removed!']);\n",
              "            Plotly.purge(gd);\n",
              "            observer.disconnect();\n",
              "        }}\n",
              "}});\n",
              "\n",
              "// Listen for the removal of the full notebook cells\n",
              "var notebookContainer = gd.closest('#notebook-container');\n",
              "if (notebookContainer) {{\n",
              "    x.observe(notebookContainer, {childList: true});\n",
              "}}\n",
              "\n",
              "// Listen for the clearing of the current output cell\n",
              "var outputEl = gd.closest('.output');\n",
              "if (outputEl) {{\n",
              "    x.observe(outputEl, {childList: true});\n",
              "}}\n",
              "\n",
              "                        })\n",
              "                };\n",
              "                \n",
              "            </script>\n",
              "        </div>\n",
              "</body>\n",
              "</html>"
            ]
          },
          "metadata": {
            "tags": []
          }
        },
        {
          "output_type": "display_data",
          "data": {
            "text/html": [
              "<html>\n",
              "<head><meta charset=\"utf-8\" /></head>\n",
              "<body>\n",
              "    <div>\n",
              "            <script src=\"https://cdnjs.cloudflare.com/ajax/libs/mathjax/2.7.5/MathJax.js?config=TeX-AMS-MML_SVG\"></script><script type=\"text/javascript\">if (window.MathJax) {MathJax.Hub.Config({SVG: {font: \"STIX-Web\"}});}</script>\n",
              "                <script type=\"text/javascript\">window.PlotlyConfig = {MathJaxConfig: 'local'};</script>\n",
              "        <script src=\"https://cdn.plot.ly/plotly-latest.min.js\"></script>    \n",
              "            <div id=\"59f5cb96-5af8-48bf-80ed-a1ed6659dd8d\" class=\"plotly-graph-div\" style=\"height:525px; width:100%;\"></div>\n",
              "            <script type=\"text/javascript\">\n",
              "                \n",
              "                    window.PLOTLYENV=window.PLOTLYENV || {};\n",
              "                    \n",
              "                if (document.getElementById(\"59f5cb96-5af8-48bf-80ed-a1ed6659dd8d\")) {\n",
              "                    Plotly.newPlot(\n",
              "                        '59f5cb96-5af8-48bf-80ed-a1ed6659dd8d',\n",
              "                        [{\"marker\": {\"color\": \"blue\", \"line\": {\"width\": 1}, \"opacity\": 0.8, \"size\": 7}, \"mode\": \"markers\", \"name\": \"Low\", \"type\": \"scatter\", \"x\": [238, 110, 34, 80, 142, 88, 183, 86, 84, 178, 87, 130, 162, 32, 101, 205, 175, 193, 2, 282, 50, 96, 177, 169, 146, 110, 66, 203, 77, 220, 193, 186, 236, 236, 208, 227, 64, 131, 224, 171, 31, 200, 228, 71, 107, 213, 43, 72, 160, 209, 153, 201, 85, 123, 178, 132, 20, 65, 202, 137, 214, 44, 158, 232, 217, 98, 126, 179, 107, 134, 116, 188, 78, 216, 43, 1, 212, 103, 55, 59, 64, 214, 188, 182, 36, 159, 173, 225, 75, 174, 100, 83, 104, 217, 122, 129, 180, 208, 184, 169, 197, 31, 80, 174, 105, 77, 264, 30, 170, 62, 107, 86, 53, 129, 212, 112, 210, 70, 196, 164, 138, 167, 175, 153, 69, 207, 125, 178, 161, 84, 168, 146, 168, 52, 203, 208, 183, 215, 107, 215, 175, 76, 148, 221, 158, 174, 251, 80, 107, 113, 57, 231, 217, 239, 150, 101, 281, 183, 42, 157, 10, 13, 119, 53, 233, 160, 35, 241, 122, 154, 266, 71, 51, 218, 213, 145, 197, 154, 217, 90, 98, 17, 58, 129, 102, 124, 198, 123, 175, 107, 157, 253, 115, 171, 42, 118, 185, 57, 194, 229, 113, 104, 177, 95, 79, 91, 160, 94, 208, 52, 25, 153, 260, 27, 140, 136, 52, 49, 103, 47, 185, 88, 130, 73, 243, 190, 118, 221, 221, 70, 100, 192, 104, 161, 43, 149, 156, 162, 62, 59, 216, 68, 175, 194, 166, 67, 87, 206, 190, 70, 221, 163, 39, 87, 59, 62, 112, 128, 77, 161, 235, 229, 215, 170, 29, 203, 59, 34, 158, 152, 196, 172, 193, 68, 143, 203, 41, 193, 3, 45, 170, 175, 10, 231, 60, 252, 211, 118, 153, 186, 216, 168, 222, 216, 126, 6, 251, 21, 211, 150, 164, 42, 27, 185, 203, 28, 229, 66, 237, 133, 81, 179, 148, 202, 179, 240, 157, 92, 230, 43, 130, 202, 190, 82, 40, 245, 198, 190, 63, 206, 173, 159, 177, 161, 23, 92, 245, 184, 268, 147, 146, 162, 29, 165, 70, 84, 267, 87, 166, 214, 84, 84, 210, 217, 94, 210, 211, 199, 121, 182, 226, 70, 42, 149, 106, 103, 195, 189, 133, 106, 191, 155, 162, 181, 221, 239, 246, 137, 217, 78, 188, 73, 139, 281, 228, 195, 261, 170, 246, 213, 112, 97, 219, 93, 49, 271, 118, 234, 84, 126, 11, 257, 138, 113, 140, 245, 145, 77, 136, 164, 35, 253, 207, 175, 41, 130, 27, 106, 182, 203, 240, 121, 151, 47, 121, 22, 212, 214, 199, 61, 153, 231, 119, 111, 63, 241, 100, 171, 170, 82, 14, 154, 147, 116, 254, 49, 144, 38, 214, 171, 237, 70, 13, 169, 7, 233, 225, 186, 273, 259, 85, 245, 120, 64, 204, 249, 235, 207, 134, 131, 166, 28, 84, 241, 188, 120, 110, 179, 213, 118, 156, 141, 261, 113, 182, 155, 185, 103, 48, 237, 271, 157, 268, 176, 231, 167, 258, 121, 208, 187, 179, 225, 95, 119, 211, 254, 37, 70, 172, 220, 121, 2, 182, 252, 125, 188, 227, 142, 127, 163, 34, 133, 197, 208, 70, 95, 183, 157, 93, 185, 157, 113, 149, 220, 21, 160, 74, 235, 131, 101, 131, 190, 121, 214, 126, 206, 176, 190, 59, 202, 165, 102, 171, 24, 89, 180, 156, 165, 150, 27, 203, 197, 210, 114, 217, 274, 249, 205, 56, 251, 231, 219, 72, 198, 105, 224, 116, 154, 122, 162, 58, 132, 95, 112, 54, 93, 72, 211, 76, 95, 7, 193, 37, 121, 246, 42, 139, 209, 106, 210, 97, 227, 252, 159, 195, 119, 158, 169, 120, 209, 141, 239, 121, 205, 44, 155, 268, 153, 106, 248, 160, 176, 171, 39, 125, 28, 97, 145, 196, 178, 182, 252, 114, 95, 71, 52, 196, 279, 186, 97, 176, 171, 138, 193, 149, 104, 119, 118, 167, 260, 119, 145, 200, 207, 193, 148, 203, 78, 270, 133, 261, 218, 107, 148, 68, 111, 34, 217, 175, 182, 253, 66, 158, 266, 203, 193, 174, 13, 268, 248, 250, 191, 225, 88, 35, 27, 139, 170, 228, 74, 24, 120, 265, 106, 188, 204, 231, 116, 181, 84, 269, 245, 88, 30, 76, 80, 49, 175, 254, 195, 139, 124, 94, 261, 255, 239, 161, 136, 164, 106, 186, 101, 225, 203, 127, 259, 92, 108, 128, 72, 37, 146, 112, 135, 127, 92, 133, 91, 232, 88, 276, 233, 154, 229, 18, 90, 238, 170, 175, 72, 112, 51, 244, 108, 208, 78, 118, 162, 202, 167, 134, 184, 203, 133, 169, 277, 98, 189, 243, 130, 240, 34, 223, 125, 130, 122, 220, 233, 203, 154, 210, 255, 122, 124, 55, 151, 138, 85, 130, 192, 119, 130, 153, 128, 120, 102, 29, 173, 200, 106, 109, 168, 167, 133, 184, 109, 95, 257, 16, 82, 230, 217, 181, 271, 220, 165, 98, 85, 241, 245, 77, 213, 117, 111, 44, 223, 168, 136, 63, 62, 210, 72, 126, 108, 193, 75, 180, 202, 10, 72, 79, 237, 198, 56, 90, 78, 276, 191, 211, 135, 62, 217, 189, 156, 222, 28, 129, 120, 91, 137, 243, 235, 77, 57, 150, 273, 201, 35, 52, 212, 251, 75, 202, 215, 107, 58, 138, 145, 252, 126, 88, 158, 111, 40, 259, 122, 131, 145, 223, 175, 64, 91, 71, 256, 269, 151, 36, 125, 265, 123, 196, 54, 76, 82, 166, 105, 128, 132, 174, 122, 30, 159, 75, 198, 274, 6, 189, 110, 154, 265, 196, 165, 235, 183, 139, 66, 216, 229, 151, 242, 73, 192, 164, 168, 35, 247, 103, 104, 105, 194, 163, 244, 77, 196, 178, 66, 156, 223, 268, 119, 176, 180, 202, 203, 191, 265, 279, 141, 96, 240, 49, 274, 180, 112, 166, 235, 80, 161, 109, 159, 26, 64, 280, 153, 274, 59, 89, 245, 261, 232, 203, 25, 202, 188, 114, 163, 117, 239, 95, 256, 245, 205, 87, 34, 174, 21, 250, 22, 133, 137, 127, 231, 158, 260, 253, 106, 182, 271, 257, 29, 201, 173, 254, 167, 97, 139, 169, 108, 65, 118, 98, 182, 56, 243, 192, 96, 189, 122, 83, 27, 15, 80, 48, 183, 224, 145, 275, 189, 60, 39, 145, 270, 217, 106, 118, 75, 196, 77, 38, 248, 194, 19, 110, 91, 209, 66, 115, 178, 141, 140, 160, 194, 181, 147, 263, 112, 21, 246, 155, 254, 130, 115, 113, 108, 58, 61, 126, 179, 105, 234, 195, 75, 98, 84, 6, 86, 142, 219, 96, 217, 271, 40, 97, 111, 43, 17, 206, 182, 97, 133, 162], \"y\": [4310.0, 1797.24, 1545.41, 2811.43, 6245.53, 2662.06, 5154.58, 3545.69, 1298.04, 2780.66, 1582.6, 1708.12, 2842.57, 1226.88, 694.15, 806.27, 7877.2, 3750.4, 5059.32, 13375.87, 5005.46, 4067.29, 8933.52, 2466.86, 3153.89, 1917.78, 1303.63, 1212.05, 2848.23, 13117.01, 3281.63, 5590.86, 4495.27, 5417.93, 1139.35, 4206.27, 2464.89, 2582.51, 1745.57, 4485.72, 348.71, 1922.28, 1623.63, 3852.5, 981.18, 11990.96, 2101.39, 3781.74, 4064.99, 1306.98, 1893.95, 3320.22, 3683.13, 3002.68, 1032.58, 1126.85, 2057.99, 3218.98, 657.25, 3214.81, 6388.35, 4478.53, 2140.63, 5953.25, 1755.38, 601.98, 3982.72, 4863.88, 3743.18, 2986.15, 1919.31, 1331.39, 1058.67, 13677.59, 2283.63, 2863.08, 1035.8, 582.1, 939.02, 4867.99, 2220.84, 6814.24, 4708.86, 2628.98, 904.33, 1031.41, 2609.1, 3947.7, 836.33, 9120.39, 3868.2, 4227.7, 1531.44, 6989.63, 1351.24, 804.23, 3868.7, 2273.32, 483.65, 1759.5, 1468.12, 1018.71, 6748.4, 2612.86, 1680.76, 1289.15, 3986.22, 841.64, 16293.1, 2128.83, 3075.04, 2483.63, 1301.44, 929.95, 2062.7, 606.28, 2156.45, 1504.27, 11581.8, 2053.7, 4143.02, 1042.07, 4734.26, 3979.04, 1194.75, 6854.51, 409.5, 414.76, 902.22, 1197.94, 9797.92, 1311.62, 3365.43, 3346.28, 7272.75, 2584.4, 936.15, 1247.5, 908.46, 1805.91, 1119.49, 729.27, 459.83, 1098.48, 1524.07, 1452.87, 984.91, 1125.0, 3866.33, 2056.29, 1740.63, 2545.38, 3605.08, 962.39, 5055.79, 2385.8, 614.77, 1676.06, 971.76, 1721.57, 1379.75, 791.33, 1310.14, 2817.03, 3957.78, 1648.79, 1539.69, 3384.09, 869.46, 1217.42, 1197.42, 1518.43, 819.29, 6083.04, 2652.97, 1357.6, 680.83, 1922.1, 7454.07, 2107.66, 3167.64, 258.4, 1047.84, 2709.12, 1456.79, 1083.63, 1555.32, 5815.49, 2140.07, 1491.7, 7072.8, 3617.57, 3536.82, 10736.48, 3085.49, 3312.25, 3626.81, 4122.28, 2312.8, 1539.18, 572.45, 988.91, 3550.7, 582.6, 3794.49, 3408.06, 3465.67, 2043.72, 2916.45, 1737.82, 1445.0, 1441.53, 1776.81, 1122.41, 575.4, 1990.12, 1146.96, 292.0, 4282.88, 2479.16, 979.72, 1785.16, 891.12, 2109.07, 3487.75, 3755.38, 680.18, 2263.76, 1280.85, 605.84, 916.12, 3539.53, 1799.33, 2092.32, 732.07, 1658.3, 2445.12, 1976.12, 1117.13, 247.96, 5030.6, 280.54, 1115.43, 1158.2, 1610.46, 544.18, 672.44, 1624.02, 1995.68, 2117.02, 1575.16, 941.62, 810.5, 519.44, 1670.22, 1809.34, 1095.08, 2707.33, 879.08, 2504.13, 2265.12, 711.86, 6249.11, 1432.26, 1041.68, 1016.14, 2766.18, 666.33, 3102.42, 1340.15, 1647.26, 3190.55, 1521.76, 2631.7, 1132.13, 912.0, 1047.68, 2635.79, 1747.66, 1562.12, 4014.91, 1698.94, 412.05, 2202.99, 834.57, 691.73, 3385.62, 847.61, 501.56, 2751.25, 6389.8, 1786.79, 3219.77, 16989.52, 2538.75, 781.3, 1860.86, 2588.12, 2867.2, 2347.05, 2580.91, 616.65, 464.57, 1230.93, 556.75, 839.14, 4912.41, 561.57, 3515.68, 1026.42, 598.2, 2702.22, 2503.23, 1861.11, 2590.46, 488.03, 7024.53, 4098.8, 3409.66, 2313.14, 1383.49, 2030.33, 4582.64, 2874.72, 1398.96, 2360.09, 2929.84, 1428.02, 1554.48, 652.82, 1290.01, 5639.15, 8127.85, 1188.32, 1307.41, 499.42, 1018.43, 5976.79, 2688.48, 5669.65, 688.6, 2774.17, 1382.74, 1123.86, 3580.13, 3148.2, 4678.3, 2445.91, 574.84, 3108.06, 554.46, 1620.93, 2018.91, 11216.75, 663.5, 688.04, 2067.13, 2208.3, 1000.23, 1777.92, 3427.85, 2201.64, 1450.6, 2043.93, 1447.51, 3093.86, 3087.27, 12650.08, 2618.23, 559.97, 1019.39, 911.26, 3873.3, 4819.33, 1046.56, 2995.72, 1611.59, 2456.98, 1530.75, 1614.91, 2166.38, 607.71, 9167.82, 3172.04, 4592.47, 3471.91, 1434.72, 2606.53, 1908.25, 576.3, 1058.06, 4263.64, 3918.9, 1230.14, 2357.68, 1545.14, 1544.62, 1400.88, 1163.23, 907.1, 3047.63, 2272.4, 799.82, 1307.81, 2068.15, 1957.32, 815.32, 356.85, 190.31, 2351.02, 673.26, 5818.7, 2012.17, 1368.18, 1267.41, 1055.35, 2102.09, 974.54, 1867.68, 2925.91, 1812.62, 2841.09, 1461.65, 2487.02, 859.27, 1080.76, 4709.22, 2803.69, 859.71, 1052.55, 601.56, 1765.76, 869.35, 2757.07, 1006.98, 2952.34, 2042.15, 838.27, 2456.53, 771.17, 1258.38, 2543.24, 1236.28, 2114.33, 2070.97, 2235.3, 2486.22, 1546.91, 1096.67, 2838.2, 867.38, 1592.18, 1158.3, 2005.06, 380.02, 2686.34, 1164.55, 1289.94, 3899.1, 1400.34, 1088.53, 1311.79, 1625.97, 254.11, 2423.07, 10641.6, 1011.9, 2195.58, 745.06, 1272.11, 173.74, 2175.37, 657.8, 2226.91, 644.65, 1698.35, 1641.2, 3295.76, 2456.8, 3189.81, 2836.69, 2749.89, 14197.45, 2939.64, 522.38, 1448.72, 1485.54, 706.19, 756.64, 1228.32, 1414.99, 2744.48, 3478.85, 1227.43, 1264.84, 8117.42, 5842.95, 1066.57, 7912.79, 684.97, 1592.06, 765.86, 1931.42, 456.26, 1872.28, 1661.33, 469.0, 1051.95, 668.14, 2571.02, 4277.66, 465.55, 665.59, 380.57, 697.79, 2124.99, 1325.82, 987.86, 3135.98, 487.35, 2420.84, 1407.73, 970.25, 2760.56, 1352.75, 1550.13, 1612.13, 11117.05, 1419.54, 3447.4, 977.93, 1387.99, 2350.0, 6564.84, 1194.73, 5303.97, 4684.24, 1869.5, 843.05, 1624.05, 2186.2, 680.28, 4670.08, 1268.7, 927.84, 1827.8, 420.3, 867.62, 1661.44, 5756.89, 1758.92, 1219.4, 3376.96, 1412.32, 1056.54, 1685.57, 1738.59, 6657.36, 10327.11, 1717.36, 2298.2, 2239.95, 2306.52, 935.1, 3610.31, 3774.1, 3787.09, 680.3, 1174.35, 921.1, 1005.5, 1330.45, 1867.69, 2360.55, 1233.36, 1682.36, 5927.86, 2183.54, 1056.44, 3450.84, 1346.38, 3974.37, 950.36, 1429.9, 417.87, 997.48, 383.68, 3212.16, 971.22, 1388.37, 511.88, 6568.72, 2575.0, 1967.25, 5541.46, 3497.14, 2963.19, 1911.89, 2574.65, 2348.82, 1502.35, 1517.08, 4954.84, 1655.76, 575.63, 722.74, 1319.69, 2552.86, 682.91, 913.68, 1767.53, 1083.63, 1198.23, 2422.64, 747.03, 1524.4, 2865.64, 3147.31, 748.5, 1552.01, 677.69, 2635.49, 2881.02, 1744.02, 323.69, 781.28, 946.36, 2981.5, 6423.6, 1072.36, 2181.21, 5178.96, 1108.38, 1121.21, 784.46, 974.04, 2451.23, 2628.93, 2318.88, 532.96, 3245.47, 333.56, 2303.75, 2666.61, 884.14, 3848.55, 784.58, 399.21, 1119.99, 2171.32, 2100.6, 1905.45, 747.76, 2084.9, 954.09, 1209.1, 3650.87, 1438.85, 977.21, 3000.36, 832.88, 1769.78, 4330.67, 1384.68, 5126.34, 1521.79, 967.45, 1232.18, 1491.24, 2461.85, 1705.26, 806.57, 1634.53, 4397.81, 4199.85, 3429.55, 3408.48, 1475.02, 2816.97, 1451.28, 1044.78, 3084.17, 2735.37, 615.39, 1701.94, 1415.29, 653.13, 1483.31, 3450.24, 719.81, 454.33, 1313.55, 1147.37, 773.99, 2140.22, 1459.86, 1153.62, 2173.53, 2806.9, 981.51, 1119.31, 2005.63, 731.9, 1842.14, 1429.64, 3204.16, 1337.48, 1667.97, 684.42, 6287.77, 1880.22, 3506.54, 635.41, 2419.84, 1906.07, 1824.23, 3024.62, 1880.42, 6617.65, 1155.54, 6841.24, 981.86, 589.15, 537.06, 2262.62, 3054.87, 864.86, 1295.3, 1096.32, 983.23, 422.13, 858.41, 3598.26, 1352.36, 1800.07, 5203.51, 746.83, 861.89, 1423.29, 1531.51, 2236.74, 5305.83, 2560.0, 2755.56, 230.7, 510.54, 3085.96, 3844.22, 1583.2, 322.41, 1469.45, 658.88, 1540.42, 1320.56, 555.89, 1362.27, 1412.06, 1486.9, 2126.93, 2028.88, 675.27, 1908.25, 1522.25, 616.79, 638.77, 1841.18, 102.0, 1603.46, 757.44, 544.3, 2494.46, 492.2, 1329.66, 1562.22, 2965.69, 950.26, 1627.13, 1244.59, 6748.8, 1388.81, 4154.64, 3313.79, 614.01, 1285.22, 459.24, 4073.28, 330.03, 813.52, 5450.96, 1187.66, 2630.64, 813.48, 4379.65, 2183.04, 2878.15, 1124.59, 1169.38, 6654.26, 3794.52, 933.62, 810.45, 306.72, 8093.59, 1558.72, 3013.83, 1770.34, 1028.0, 3043.48, 531.35, 3029.87, 2483.04, 1651.03, 3645.43, 3278.36, 1773.92, 1382.02, 1054.67, 702.79, 2269.21, 2191.84, 1304.76, 7170.7, 1515.9, 623.93, 2758.25, 5580.6, 458.04, 744.9, 2246.81, 654.92, 1706.28, 1210.89, 912.74, 1692.98, 1446.95, 1106.53, 1774.62, 1260.44, 805.62, 2761.49, 680.02, 7066.31, 2023.47, 853.72, 1519.08, 705.12, 809.7, 444.46, 1281.56, 3085.48, 579.77, 981.65, 2528.67, 621.68, 1043.34, 1295.39, 1903.13, 3049.88, 1894.11, 1161.27, 1178.56, 2085.08, 2148.47, 650.41, 1809.05, 1920.2, 5461.62, 1625.05, 1133.25, 1601.86, 1427.46, 1487.78, 877.43, 8574.11, 1272.61, 95.85, 877.09, 1030.14, 1065.77, 1044.38, 1735.18, 5594.78, 1353.83, 1179.89, 3095.04, 5171.57, 1421.59, 859.35, 2655.22, 2385.48, 813.77, 841.08, 1991.01, 2041.85, 3802.81, 1777.78, 1088.2, 992.68, 941.17, 10380.43, 747.22, 806.9, 4892.24, 1139.73, 10585.57, 1679.64, 1266.97, 3518.03, 1707.21, 2466.4, 3755.65, 1430.94, 780.38, 2275.58, 2095.13, 692.22, 2299.67, 984.12, 1960.72, 3198.25, 939.32, 1906.09, 3127.82, 916.13, 1253.36, 2144.53, 1641.68, 1064.11, 1419.73, 1875.11, 669.11, 1119.93, 2514.76, 908.99, 990.23, 6612.18, 537.74, 587.15, 488.2, 4455.73, 4801.56, 1349.52, 446.18, 1342.68, 646.92, 2686.42, 1259.56, 7330.8, 2633.85, 1214.72, 1258.06, 6838.34, 598.83, 1853.13, 5022.26, 2504.86, 452.63, 1881.36, 1843.06, 1125.07, 414.04, 3541.92, 2920.04, 639.02, 768.08, 1839.07, 1070.71, 709.9, 888.86, 2385.0, 1952.45, 1107.38, 4012.56, 1498.51, 226.75, 440.2, 2404.17, 2215.02, 3911.56, 2827.93, 5050.77, 1103.92, 1992.76, 4509.37, 971.58, 1336.1, 2047.0, 1784.12, 528.33, 1242.34, 2361.97, 2768.98, 1789.55, 3886.67, 4737.13, 1175.88, 2571.74, 1674.69, 1788.27, 2055.51, 3406.72, 1284.08, 1622.22, 1383.27, 2459.33, 3191.53, 5739.46, 2508.89, 1719.72, 798.74, 1781.12, 5505.79, 1195.94, 3371.13, 700.63, 1863.35, 2786.05, 2291.08, 1797.57, 1739.92, 3456.7, 3966.84, 697.9, 1199.01, 1251.84, 36.56, 3661.07, 1995.46, 1599.97, 398.7, 1560.53, 2312.7, 1393.79, 2059.2, 3160.0, 622.75, 1889.4, 1764.36, 717.45, 899.61, 525.78, 1119.81, 800.24, 341.28, 826.52, 2894.33, 834.5, 1740.48, 1331.57, 4301.22, 1983.58, 990.84, 1098.43, 737.81, 191.17, 1676.18, 2116.19, 1483.56, 523.0, 405.62, 559.51, 2085.65, 2380.08, 2021.82, 2633.01, 3651.97, 343.45, 9065.76, 3017.3, 2692.85, 1418.03, 1141.34, 761.83, 2861.55, 612.08, 566.58, 347.82, 1612.79, 980.31, 1208.51, 7490.17, 2106.84, 1333.17, 1793.17, 1843.75, 1979.3, 600.07, 2019.77, 1033.31, 5192.1, 2716.6, 582.47, 1796.48, 882.24, 987.1, 2232.49, 2507.56, 2244.98, 1211.08, 3064.78, 204.0]}, {\"marker\": {\"color\": \"green\", \"line\": {\"width\": 1}, \"opacity\": 0.5, \"size\": 9}, \"mode\": \"markers\", \"name\": \"Mid\", \"type\": \"scatter\", \"x\": [259, 251, 255, 254, 233, 280, 235, 270, 234, 241, 269, 219, 273, 267, 259, 274, 243, 266, 253, 271, 273, 270, 271, 265, 275, 220, 260, 254, 275, 265, 234, 275, 280, 243, 279, 260, 266, 270, 266, 260, 239, 238, 232, 253, 257, 227, 274, 254, 253, 274, 260, 280, 276, 274, 268, 281, 247, 225, 258, 277, 239, 249, 139, 274, 265, 275, 238, 273, 224, 258, 268, 246, 237, 275, 260, 264, 273, 227, 273, 234, 267, 281, 272, 112, 267, 99, 222, 274, 258, 268, 265, 221, 265, 120, 264, 262, 219, 261, 275, 223, 256, 263, 147, 280, 274, 281, 249, 265, 266, 257, 259, 222, 272, 260, 266, 278, 231, 269, 271, 253, 277, 226, 242, 263, 256, 249, 241, 246, 271, 256, 279, 261, 263, 245, 256, 231, 267, 279, 224, 253, 266, 228, 250, 231, 254, 92, 251, 113, 235, 238, 276, 258, 258, 221, 270, 256, 224, 274, 261, 227, 268, 231, 275, 269, 98, 275, 273, 270, 254, 278, 237, 275, 229, 254, 220, 267, 274, 233, 251, 269, 269, 252, 245, 232, 260, 251, 269, 142, 258, 245, 260, 230, 261, 112, 88, 260, 234, 273, 263, 279, 266, 260, 267, 274, 225, 235, 277, 254, 257, 253, 270, 247, 273, 224, 258, 272, 266, 272, 244, 272, 267, 268, 272, 273, 266, 149, 220, 274, 258, 244, 262, 244, 241, 230, 253, 273, 268, 248, 249, 278, 252, 269, 241, 259, 254, 278, 278, 264, 236, 262, 271, 280, 118, 242, 257, 242, 223, 275, 244, 279, 276, 266, 273, 211, 244, 234, 267], \"y\": [2998.28, 3578.8, 1849.11, 6416.39, 4896.66, 18740.92, 6229.48, 7116.47, 6546.58, 2327.13, 13309.04, 3656.15, 9114.94, 7187.34, 2581.04, 13612.07, 3669.92, 3817.08, 17588.26, 12288.22, 8221.09, 2616.32, 9294.1, 4241.63, 5713.28, 18793.41, 4196.01, 21024.01, 5583.62, 3876.4, 1535.77, 16389.74, 10851.66, 5613.43, 4786.99, 3089.1, 5684.61, 3740.52, 12432.28, 8689.39, 1708.86, 5893.32, 6336.29, 10463.58, 3348.48, 5725.47, 9803.96, 5820.16, 3717.67, 4404.44, 5315.92, 2000.86, 10664.34, 5845.44, 9537.92, 5656.75, 8910.61, 1215.82, 5613.08, 6703.3, 7792.36, 6216.07, 1809.81, 5145.12, 16945.71, 2771.87, 2462.79, 8025.02, 2187.31, 8986.69, 3865.26, 14634.64, 3542.19, 15477.34, 6147.4, 6135.38, 10464.85, 4435.79, 4063.1, 3092.97, 4690.31, 4640.77, 4604.31, 4660.01, 1925.36, 3315.71, 2323.5, 2535.88, 3729.34, 2855.35, 2319.68, 4928.74, 2539.46, 2556.68, 4039.98, 5811.56, 1965.9, 4221.37, 7711.38, 4075.35, 2916.17, 2174.18, 1598.24, 11713.85, 9231.2, 5107.38, 3250.64, 4911.14, 2664.26, 9451.54, 5807.69, 4965.38, 7839.51, 4316.61, 2087.88, 7904.28, 11020.26, 7006.58, 6180.49, 6763.16, 19786.44, 7629.38, 5064.01, 9623.35, 4410.14, 18573.68, 15802.14, 7521.17, 2485.82, 7803.77, 4596.51, 5028.12, 2766.5, 8234.8, 2213.11, 6945.02, 12396.46, 14520.08, 3967.78, 3542.51, 4758.2, 4109.97, 6745.36, 1568.39, 10360.04, 3224.53, 12433.34, 2644.46, 3329.72, 5043.96, 4788.77, 5452.17, 1641.48, 2974.65, 16173.67, 3797.79, 6102.26, 3362.71, 8727.61, 14305.66, 3741.98, 5352.97, 3770.6, 3991.94, 4908.77, 21086.3, 2607.87, 2609.3, 5423.15, 6675.71, 1460.37, 2941.05, 4061.24, 3482.74, 9304.27, 11895.57, 8257.04, 3622.95, 3083.67, 1676.47, 8568.24, 4022.46, 5040.0, 5150.27, 13946.13, 6840.23, 4711.21, 7076.28, 6694.31, 1695.66, 10454.05, 2242.25, 6500.6, 3317.97, 3167.73, 15357.78, 10183.82, 3754.27, 6746.83, 2781.5, 4604.22, 4345.5, 3989.57, 4535.64, 2741.08, 3744.65, 8628.55, 8600.73, 6204.46, 11891.18, 2611.58, 3925.92, 20272.43, 4200.97, 17078.45, 2210.26, 3457.78, 10736.11, 3947.87, 2954.75, 20098.1, 16219.22, 4748.45, 2201.05, 10097.37, 5367.8, 5288.83, 13110.02, 5585.49, 1965.55, 3026.08, 4627.62, 7677.71, 901.2, 5155.66, 10158.54, 4204.1, 2295.37, 1296.44, 2622.57, 4393.61, 4161.14, 6752.14, 2119.41, 2538.72, 7925.32, 5595.77, 2888.75, 5083.06, 6315.23, 5361.02, 7276.9, 2058.09, 2094.88, 33462.81, 27964.48, 28658.88, 27487.41, 25748.35, 36351.42, 26390.46, 33350.76, 33366.25, 26626.8, 31300.08, 30358.42, 26763.34]}, {\"marker\": {\"color\": \"red\", \"line\": {\"width\": 1}, \"opacity\": 0.9, \"size\": 11}, \"mode\": \"markers\", \"name\": \"High\", \"type\": \"scatter\", \"x\": [282, 270, 282], \"y\": [30922.14, 33820.09, 40340.78]}],\n",
              "                        {\"template\": {\"data\": {\"bar\": [{\"error_x\": {\"color\": \"#2a3f5f\"}, \"error_y\": {\"color\": \"#2a3f5f\"}, \"marker\": {\"line\": {\"color\": \"#E5ECF6\", \"width\": 0.5}}, \"type\": \"bar\"}], \"barpolar\": [{\"marker\": {\"line\": {\"color\": \"#E5ECF6\", \"width\": 0.5}}, \"type\": \"barpolar\"}], \"carpet\": [{\"aaxis\": {\"endlinecolor\": \"#2a3f5f\", \"gridcolor\": \"white\", \"linecolor\": \"white\", \"minorgridcolor\": \"white\", \"startlinecolor\": \"#2a3f5f\"}, \"baxis\": {\"endlinecolor\": \"#2a3f5f\", \"gridcolor\": \"white\", \"linecolor\": \"white\", \"minorgridcolor\": \"white\", \"startlinecolor\": \"#2a3f5f\"}, \"type\": \"carpet\"}], \"choropleth\": [{\"colorbar\": {\"outlinewidth\": 0, \"ticks\": \"\"}, \"type\": \"choropleth\"}], \"contour\": [{\"colorbar\": {\"outlinewidth\": 0, \"ticks\": \"\"}, \"colorscale\": [[0.0, \"#0d0887\"], [0.1111111111111111, \"#46039f\"], [0.2222222222222222, \"#7201a8\"], [0.3333333333333333, \"#9c179e\"], [0.4444444444444444, \"#bd3786\"], [0.5555555555555556, \"#d8576b\"], [0.6666666666666666, \"#ed7953\"], [0.7777777777777778, \"#fb9f3a\"], [0.8888888888888888, \"#fdca26\"], [1.0, \"#f0f921\"]], \"type\": \"contour\"}], \"contourcarpet\": [{\"colorbar\": {\"outlinewidth\": 0, \"ticks\": \"\"}, \"type\": \"contourcarpet\"}], \"heatmap\": [{\"colorbar\": {\"outlinewidth\": 0, \"ticks\": \"\"}, \"colorscale\": [[0.0, \"#0d0887\"], [0.1111111111111111, \"#46039f\"], [0.2222222222222222, \"#7201a8\"], [0.3333333333333333, \"#9c179e\"], [0.4444444444444444, \"#bd3786\"], [0.5555555555555556, \"#d8576b\"], [0.6666666666666666, \"#ed7953\"], [0.7777777777777778, \"#fb9f3a\"], [0.8888888888888888, \"#fdca26\"], [1.0, \"#f0f921\"]], \"type\": \"heatmap\"}], \"heatmapgl\": [{\"colorbar\": {\"outlinewidth\": 0, \"ticks\": \"\"}, \"colorscale\": [[0.0, \"#0d0887\"], [0.1111111111111111, \"#46039f\"], [0.2222222222222222, \"#7201a8\"], [0.3333333333333333, \"#9c179e\"], [0.4444444444444444, \"#bd3786\"], [0.5555555555555556, \"#d8576b\"], [0.6666666666666666, \"#ed7953\"], [0.7777777777777778, \"#fb9f3a\"], [0.8888888888888888, \"#fdca26\"], [1.0, \"#f0f921\"]], \"type\": \"heatmapgl\"}], \"histogram\": [{\"marker\": {\"colorbar\": {\"outlinewidth\": 0, \"ticks\": \"\"}}, \"type\": \"histogram\"}], \"histogram2d\": [{\"colorbar\": {\"outlinewidth\": 0, \"ticks\": \"\"}, \"colorscale\": [[0.0, \"#0d0887\"], [0.1111111111111111, \"#46039f\"], [0.2222222222222222, \"#7201a8\"], [0.3333333333333333, \"#9c179e\"], [0.4444444444444444, \"#bd3786\"], [0.5555555555555556, \"#d8576b\"], [0.6666666666666666, \"#ed7953\"], [0.7777777777777778, \"#fb9f3a\"], [0.8888888888888888, \"#fdca26\"], [1.0, \"#f0f921\"]], \"type\": \"histogram2d\"}], \"histogram2dcontour\": [{\"colorbar\": {\"outlinewidth\": 0, \"ticks\": \"\"}, \"colorscale\": [[0.0, \"#0d0887\"], [0.1111111111111111, \"#46039f\"], [0.2222222222222222, \"#7201a8\"], [0.3333333333333333, \"#9c179e\"], [0.4444444444444444, \"#bd3786\"], [0.5555555555555556, \"#d8576b\"], [0.6666666666666666, \"#ed7953\"], [0.7777777777777778, \"#fb9f3a\"], [0.8888888888888888, \"#fdca26\"], [1.0, \"#f0f921\"]], \"type\": \"histogram2dcontour\"}], \"mesh3d\": [{\"colorbar\": {\"outlinewidth\": 0, \"ticks\": \"\"}, \"type\": \"mesh3d\"}], \"parcoords\": [{\"line\": {\"colorbar\": {\"outlinewidth\": 0, \"ticks\": \"\"}}, \"type\": \"parcoords\"}], \"pie\": [{\"automargin\": true, \"type\": \"pie\"}], \"scatter\": [{\"marker\": {\"colorbar\": {\"outlinewidth\": 0, \"ticks\": \"\"}}, \"type\": \"scatter\"}], \"scatter3d\": [{\"line\": {\"colorbar\": {\"outlinewidth\": 0, \"ticks\": \"\"}}, \"marker\": {\"colorbar\": {\"outlinewidth\": 0, \"ticks\": \"\"}}, \"type\": \"scatter3d\"}], \"scattercarpet\": [{\"marker\": {\"colorbar\": {\"outlinewidth\": 0, \"ticks\": \"\"}}, \"type\": \"scattercarpet\"}], \"scattergeo\": [{\"marker\": {\"colorbar\": {\"outlinewidth\": 0, \"ticks\": \"\"}}, \"type\": \"scattergeo\"}], \"scattergl\": [{\"marker\": {\"colorbar\": {\"outlinewidth\": 0, \"ticks\": \"\"}}, \"type\": \"scattergl\"}], \"scattermapbox\": [{\"marker\": {\"colorbar\": {\"outlinewidth\": 0, \"ticks\": \"\"}}, \"type\": \"scattermapbox\"}], \"scatterpolar\": [{\"marker\": {\"colorbar\": {\"outlinewidth\": 0, \"ticks\": \"\"}}, \"type\": \"scatterpolar\"}], \"scatterpolargl\": [{\"marker\": {\"colorbar\": {\"outlinewidth\": 0, \"ticks\": \"\"}}, \"type\": \"scatterpolargl\"}], \"scatterternary\": [{\"marker\": {\"colorbar\": {\"outlinewidth\": 0, \"ticks\": \"\"}}, \"type\": \"scatterternary\"}], \"surface\": [{\"colorbar\": {\"outlinewidth\": 0, \"ticks\": \"\"}, \"colorscale\": [[0.0, \"#0d0887\"], [0.1111111111111111, \"#46039f\"], [0.2222222222222222, \"#7201a8\"], [0.3333333333333333, \"#9c179e\"], [0.4444444444444444, \"#bd3786\"], [0.5555555555555556, \"#d8576b\"], [0.6666666666666666, \"#ed7953\"], [0.7777777777777778, \"#fb9f3a\"], [0.8888888888888888, \"#fdca26\"], [1.0, \"#f0f921\"]], \"type\": \"surface\"}], \"table\": [{\"cells\": {\"fill\": {\"color\": \"#EBF0F8\"}, \"line\": {\"color\": \"white\"}}, \"header\": {\"fill\": {\"color\": \"#C8D4E3\"}, \"line\": {\"color\": \"white\"}}, \"type\": \"table\"}]}, \"layout\": {\"annotationdefaults\": {\"arrowcolor\": \"#2a3f5f\", \"arrowhead\": 0, \"arrowwidth\": 1}, \"coloraxis\": {\"colorbar\": {\"outlinewidth\": 0, \"ticks\": \"\"}}, \"colorscale\": {\"diverging\": [[0, \"#8e0152\"], [0.1, \"#c51b7d\"], [0.2, \"#de77ae\"], [0.3, \"#f1b6da\"], [0.4, \"#fde0ef\"], [0.5, \"#f7f7f7\"], [0.6, \"#e6f5d0\"], [0.7, \"#b8e186\"], [0.8, \"#7fbc41\"], [0.9, \"#4d9221\"], [1, \"#276419\"]], \"sequential\": [[0.0, \"#0d0887\"], [0.1111111111111111, \"#46039f\"], [0.2222222222222222, \"#7201a8\"], [0.3333333333333333, \"#9c179e\"], [0.4444444444444444, \"#bd3786\"], [0.5555555555555556, \"#d8576b\"], [0.6666666666666666, \"#ed7953\"], [0.7777777777777778, \"#fb9f3a\"], [0.8888888888888888, \"#fdca26\"], [1.0, \"#f0f921\"]], \"sequentialminus\": [[0.0, \"#0d0887\"], [0.1111111111111111, \"#46039f\"], [0.2222222222222222, \"#7201a8\"], [0.3333333333333333, \"#9c179e\"], [0.4444444444444444, \"#bd3786\"], [0.5555555555555556, \"#d8576b\"], [0.6666666666666666, \"#ed7953\"], [0.7777777777777778, \"#fb9f3a\"], [0.8888888888888888, \"#fdca26\"], [1.0, \"#f0f921\"]]}, \"colorway\": [\"#636efa\", \"#EF553B\", \"#00cc96\", \"#ab63fa\", \"#FFA15A\", \"#19d3f3\", \"#FF6692\", \"#B6E880\", \"#FF97FF\", \"#FECB52\"], \"font\": {\"color\": \"#2a3f5f\"}, \"geo\": {\"bgcolor\": \"white\", \"lakecolor\": \"white\", \"landcolor\": \"#E5ECF6\", \"showlakes\": true, \"showland\": true, \"subunitcolor\": \"white\"}, \"hoverlabel\": {\"align\": \"left\"}, \"hovermode\": \"closest\", \"mapbox\": {\"style\": \"light\"}, \"paper_bgcolor\": \"white\", \"plot_bgcolor\": \"#E5ECF6\", \"polar\": {\"angularaxis\": {\"gridcolor\": \"white\", \"linecolor\": \"white\", \"ticks\": \"\"}, \"bgcolor\": \"#E5ECF6\", \"radialaxis\": {\"gridcolor\": \"white\", \"linecolor\": \"white\", \"ticks\": \"\"}}, \"scene\": {\"xaxis\": {\"backgroundcolor\": \"#E5ECF6\", \"gridcolor\": \"white\", \"gridwidth\": 2, \"linecolor\": \"white\", \"showbackground\": true, \"ticks\": \"\", \"zerolinecolor\": \"white\"}, \"yaxis\": {\"backgroundcolor\": \"#E5ECF6\", \"gridcolor\": \"white\", \"gridwidth\": 2, \"linecolor\": \"white\", \"showbackground\": true, \"ticks\": \"\", \"zerolinecolor\": \"white\"}, \"zaxis\": {\"backgroundcolor\": \"#E5ECF6\", \"gridcolor\": \"white\", \"gridwidth\": 2, \"linecolor\": \"white\", \"showbackground\": true, \"ticks\": \"\", \"zerolinecolor\": \"white\"}}, \"shapedefaults\": {\"line\": {\"color\": \"#2a3f5f\"}}, \"ternary\": {\"aaxis\": {\"gridcolor\": \"white\", \"linecolor\": \"white\", \"ticks\": \"\"}, \"baxis\": {\"gridcolor\": \"white\", \"linecolor\": \"white\", \"ticks\": \"\"}, \"bgcolor\": \"#E5ECF6\", \"caxis\": {\"gridcolor\": \"white\", \"linecolor\": \"white\", \"ticks\": \"\"}}, \"title\": {\"x\": 0.05}, \"xaxis\": {\"automargin\": true, \"gridcolor\": \"white\", \"linecolor\": \"white\", \"ticks\": \"\", \"title\": {\"standoff\": 15}, \"zerolinecolor\": \"white\", \"zerolinewidth\": 2}, \"yaxis\": {\"automargin\": true, \"gridcolor\": \"white\", \"linecolor\": \"white\", \"ticks\": \"\", \"title\": {\"standoff\": 15}, \"zerolinecolor\": \"white\", \"zerolinewidth\": 2}}}, \"title\": {\"text\": \"Segments\"}, \"xaxis\": {\"title\": {\"text\": \"Recency\"}}, \"yaxis\": {\"title\": {\"text\": \"Revenue\"}}},\n",
              "                        {\"responsive\": true}\n",
              "                    ).then(function(){\n",
              "                            \n",
              "var gd = document.getElementById('59f5cb96-5af8-48bf-80ed-a1ed6659dd8d');\n",
              "var x = new MutationObserver(function (mutations, observer) {{\n",
              "        var display = window.getComputedStyle(gd).display;\n",
              "        if (!display || display === 'none') {{\n",
              "            console.log([gd, 'removed!']);\n",
              "            Plotly.purge(gd);\n",
              "            observer.disconnect();\n",
              "        }}\n",
              "}});\n",
              "\n",
              "// Listen for the removal of the full notebook cells\n",
              "var notebookContainer = gd.closest('#notebook-container');\n",
              "if (notebookContainer) {{\n",
              "    x.observe(notebookContainer, {childList: true});\n",
              "}}\n",
              "\n",
              "// Listen for the clearing of the current output cell\n",
              "var outputEl = gd.closest('.output');\n",
              "if (outputEl) {{\n",
              "    x.observe(outputEl, {childList: true});\n",
              "}}\n",
              "\n",
              "                        })\n",
              "                };\n",
              "                \n",
              "            </script>\n",
              "        </div>\n",
              "</body>\n",
              "</html>"
            ]
          },
          "metadata": {
            "tags": []
          }
        },
        {
          "output_type": "display_data",
          "data": {
            "text/html": [
              "<html>\n",
              "<head><meta charset=\"utf-8\" /></head>\n",
              "<body>\n",
              "    <div>\n",
              "            <script src=\"https://cdnjs.cloudflare.com/ajax/libs/mathjax/2.7.5/MathJax.js?config=TeX-AMS-MML_SVG\"></script><script type=\"text/javascript\">if (window.MathJax) {MathJax.Hub.Config({SVG: {font: \"STIX-Web\"}});}</script>\n",
              "                <script type=\"text/javascript\">window.PlotlyConfig = {MathJaxConfig: 'local'};</script>\n",
              "        <script src=\"https://cdn.plot.ly/plotly-latest.min.js\"></script>    \n",
              "            <div id=\"1f536548-3ab6-4a83-a481-703925da8342\" class=\"plotly-graph-div\" style=\"height:525px; width:100%;\"></div>\n",
              "            <script type=\"text/javascript\">\n",
              "                \n",
              "                    window.PLOTLYENV=window.PLOTLYENV || {};\n",
              "                    \n",
              "                if (document.getElementById(\"1f536548-3ab6-4a83-a481-703925da8342\")) {\n",
              "                    Plotly.newPlot(\n",
              "                        '1f536548-3ab6-4a83-a481-703925da8342',\n",
              "                        [{\"marker\": {\"color\": \"blue\", \"line\": {\"width\": 1}, \"opacity\": 0.8, \"size\": 7}, \"mode\": \"markers\", \"name\": \"Low\", \"type\": \"scatter\", \"x\": [238, 110, 34, 80, 142, 88, 183, 86, 84, 178, 87, 130, 162, 32, 101, 205, 175, 193, 2, 282, 50, 96, 177, 169, 146, 110, 66, 203, 77, 220, 193, 186, 236, 236, 208, 227, 64, 131, 224, 171, 31, 200, 228, 71, 107, 213, 43, 72, 160, 209, 153, 201, 85, 123, 178, 132, 20, 65, 202, 137, 214, 44, 158, 232, 217, 98, 126, 179, 107, 134, 116, 188, 78, 216, 43, 1, 212, 103, 55, 59, 64, 214, 188, 182, 36, 159, 173, 225, 75, 174, 100, 83, 104, 217, 122, 129, 180, 208, 184, 169, 197, 31, 80, 174, 105, 77, 264, 30, 170, 62, 107, 86, 53, 129, 212, 112, 210, 70, 196, 164, 138, 167, 175, 153, 69, 207, 125, 178, 161, 84, 168, 146, 168, 52, 203, 208, 183, 215, 107, 215, 175, 76, 148, 221, 158, 174, 251, 80, 107, 113, 57, 231, 217, 239, 150, 101, 281, 183, 42, 157, 10, 13, 119, 53, 233, 160, 35, 241, 122, 154, 266, 71, 51, 218, 213, 145, 197, 154, 217, 90, 98, 17, 58, 129, 102, 124, 198, 123, 175, 107, 157, 253, 115, 171, 42, 118, 185, 57, 194, 229, 113, 104, 177, 95, 79, 91, 160, 94, 208, 52, 25, 153, 260, 27, 140, 136, 52, 49, 103, 47, 185, 88, 130, 73, 243, 190, 118, 221, 221, 70, 100, 192, 104, 161, 43, 149, 156, 162, 62, 59, 216, 68, 175, 194, 166, 67, 87, 206, 190, 70, 221, 163, 39, 87, 59, 62, 112, 128, 77, 161, 235, 229, 215, 170, 29, 203, 59, 34, 158, 152, 196, 172, 193, 68, 143, 203, 41, 193, 3, 45, 170, 175, 10, 231, 60, 252, 211, 118, 153, 186, 216, 168, 222, 216, 126, 6, 251, 21, 211, 150, 164, 42, 27, 185, 203, 28, 229, 66, 237, 133, 81, 179, 148, 202, 179, 240, 157, 92, 230, 43, 130, 202, 190, 82, 40, 245, 198, 190, 63, 206, 173, 159, 177, 161, 23, 92, 245, 184, 268, 147, 146, 162, 29, 165, 70, 84, 267, 87, 166, 214, 84, 84, 210, 217, 94, 210, 211, 199, 121, 182, 226, 70, 42, 149, 106, 103, 195, 189, 133, 106, 191, 155, 162, 181, 221, 239, 246, 137, 217, 78, 188, 73, 139, 281, 228, 195, 261, 170, 246, 213, 112, 97, 219, 93, 49, 271, 118, 234, 84, 126, 11, 257, 138, 113, 140, 245, 145, 77, 136, 164, 35, 253, 207, 175, 41, 130, 27, 106, 182, 203, 240, 121, 151, 47, 121, 22, 212, 214, 199, 61, 153, 231, 119, 111, 63, 241, 100, 171, 170, 82, 14, 154, 147, 116, 254, 49, 144, 38, 214, 171, 237, 70, 13, 169, 7, 233, 225, 186, 273, 259, 85, 245, 120, 64, 204, 249, 235, 207, 134, 131, 166, 28, 84, 241, 188, 120, 110, 179, 213, 118, 156, 141, 261, 113, 182, 155, 185, 103, 48, 237, 271, 157, 268, 176, 231, 167, 258, 121, 208, 187, 179, 225, 95, 119, 211, 254, 37, 70, 172, 220, 121, 2, 182, 252, 125, 188, 227, 142, 127, 163, 34, 133, 197, 208, 70, 95, 183, 157, 93, 185, 157, 113, 149, 220, 21, 160, 74, 235, 131, 101, 131, 190, 121, 214, 126, 206, 176, 190, 59, 202, 165, 102, 171, 24, 89, 180, 156, 165, 150, 27, 203, 197, 210, 114, 217, 274, 249, 205, 56, 251, 231, 219, 72, 198, 105, 224, 116, 154, 122, 162, 58, 132, 95, 112, 54, 93, 72, 211, 76, 95, 7, 193, 37, 121, 246, 42, 139, 209, 106, 210, 97, 227, 252, 159, 195, 119, 158, 169, 120, 209, 141, 239, 121, 205, 44, 155, 268, 153, 106, 248, 160, 176, 171, 39, 125, 28, 97, 145, 196, 178, 182, 252, 114, 95, 71, 52, 196, 279, 186, 97, 176, 171, 138, 193, 149, 104, 119, 118, 167, 260, 119, 145, 200, 207, 193, 148, 203, 78, 270, 133, 261, 218, 107, 148, 68, 111, 34, 217, 175, 182, 253, 66, 158, 266, 203, 193, 174, 13, 268, 248, 250, 191, 225, 88, 35, 27, 139, 170, 228, 74, 24, 120, 265, 106, 188, 204, 231, 116, 181, 84, 269, 245, 88, 30, 76, 80, 49, 175, 254, 195, 139, 124, 94, 261, 255, 239, 161, 136, 164, 106, 186, 101, 225, 203, 127, 259, 92, 108, 128, 72, 37, 146, 112, 135, 127, 92, 133, 91, 232, 88, 276, 233, 154, 229, 18, 90, 238, 170, 175, 72, 112, 51, 244, 108, 208, 78, 118, 162, 202, 167, 134, 184, 203, 133, 169, 277, 98, 189, 243, 130, 240, 34, 223, 125, 130, 122, 220, 233, 203, 154, 210, 255, 122, 124, 55, 151, 138, 85, 130, 192, 119, 130, 153, 128, 120, 102, 29, 173, 200, 106, 109, 168, 167, 133, 184, 109, 95, 257, 16, 82, 230, 217, 181, 271, 220, 165, 98, 85, 241, 245, 77, 213, 117, 111, 44, 223, 168, 136, 63, 62, 210, 72, 126, 108, 193, 75, 180, 202, 10, 72, 79, 237, 198, 56, 90, 78, 276, 191, 211, 135, 62, 217, 189, 156, 222, 28, 129, 120, 91, 137, 243, 235, 77, 57, 150, 273, 201, 35, 52, 212, 251, 75, 202, 215, 107, 58, 138, 145, 252, 126, 88, 158, 111, 40, 259, 122, 131, 145, 223, 175, 64, 91, 71, 256, 269, 151, 36, 125, 265, 123, 196, 54, 76, 82, 166, 105, 128, 132, 174, 122, 30, 159, 75, 198, 274, 6, 189, 110, 154, 265, 196, 165, 235, 183, 139, 66, 216, 229, 151, 242, 73, 192, 164, 168, 35, 247, 103, 104, 105, 194, 163, 244, 77, 196, 178, 66, 156, 223, 268, 119, 176, 180, 202, 203, 191, 265, 279, 141, 96, 240, 49, 274, 180, 112, 166, 235, 80, 161, 109, 159, 26, 64, 280, 153, 274, 59, 89, 245, 261, 232, 203, 25, 202, 188, 114, 163, 117, 239, 95, 256, 245, 205, 87, 34, 174, 21, 250, 22, 133, 137, 127, 231, 158, 260, 253, 106, 182, 271, 257, 29, 201, 173, 254, 167, 97, 139, 169, 108, 65, 118, 98, 182, 56, 243, 192, 96, 189, 122, 83, 27, 15, 80, 48, 183, 224, 145, 275, 189, 60, 39, 145, 270, 217, 106, 118, 75, 196, 77, 38, 248, 194, 19, 110, 91, 209, 66, 115, 178, 141, 140, 160, 194, 181, 147, 263, 112, 21, 246, 155, 254, 130, 115, 113, 108, 58, 61, 126, 179, 105, 234, 195, 75, 98, 84, 6, 86, 142, 219, 96, 217, 271, 40, 97, 111, 43, 17, 206, 182, 97, 133, 162], \"y\": [4, 2, 3, 1, 3, 1, 5, 2, 1, 3, 2, 3, 5, 1, 2, 2, 8, 2, 1, 2, 1, 2, 2, 4, 2, 3, 3, 4, 2, 5, 2, 6, 4, 5, 7, 5, 1, 4, 6, 5, 1, 5, 3, 1, 1, 3, 2, 2, 13, 4, 5, 6, 1, 3, 5, 1, 2, 1, 3, 3, 9, 4, 3, 6, 3, 1, 4, 2, 3, 2, 3, 3, 2, 17, 3, 1, 3, 1, 2, 1, 2, 6, 3, 4, 4, 1, 4, 5, 2, 2, 4, 4, 1, 4, 4, 3, 7, 4, 1, 3, 4, 2, 4, 2, 6, 1, 5, 1, 21, 3, 2, 2, 3, 3, 2, 1, 4, 1, 3, 4, 5, 6, 8, 5, 2, 8, 1, 2, 3, 3, 10, 5, 8, 2, 14, 6, 2, 1, 1, 3, 1, 1, 4, 2, 2, 4, 6, 2, 1, 4, 2, 4, 5, 2, 2, 3, 2, 2, 1, 3, 2, 1, 2, 1, 5, 7, 3, 5, 1, 3, 1, 3, 2, 5, 9, 4, 1, 4, 20, 2, 5, 1, 2, 2, 1, 3, 2, 2, 4, 2, 4, 6, 1, 3, 1, 1, 3, 3, 4, 4, 1, 3, 4, 1, 2, 3, 4, 3, 3, 3, 1, 5, 4, 1, 1, 3, 2, 1, 5, 2, 4, 2, 2, 3, 5, 2, 2, 3, 5, 2, 5, 8, 1, 6, 1, 2, 4, 4, 1, 2, 12, 1, 4, 2, 1, 1, 3, 3, 6, 2, 2, 4, 1, 1, 1, 2, 1, 3, 5, 10, 5, 1, 5, 4, 1, 4, 1, 2, 9, 5, 3, 4, 1, 2, 1, 2, 1, 3, 1, 1, 2, 3, 1, 3, 1, 1, 6, 2, 2, 4, 8, 3, 6, 8, 4, 1, 2, 1, 3, 3, 7, 3, 1, 1, 2, 1, 4, 1, 4, 2, 1, 7, 4, 2, 5, 4, 7, 3, 6, 1, 3, 2, 4, 2, 1, 4, 10, 2, 2, 2, 2, 2, 16, 4, 2, 2, 5, 4, 6, 5, 2, 6, 1, 1, 4, 3, 6, 2, 2, 3, 1, 2, 5, 14, 2, 6, 5, 8, 4, 4, 5, 3, 3, 5, 2, 2, 3, 6, 2, 2, 3, 4, 4, 5, 2, 3, 4, 4, 2, 2, 4, 2, 6, 6, 3, 5, 4, 5, 3, 6, 1, 1, 6, 2, 1, 4, 3, 4, 1, 1, 1, 4, 4, 1, 1, 3, 1, 1, 1, 5, 2, 6, 2, 2, 1, 1, 1, 1, 3, 4, 1, 1, 5, 1, 1, 1, 6, 4, 2, 3, 2, 3, 2, 2, 1, 4, 4, 2, 5, 2, 2, 5, 1, 1, 6, 1, 5, 1, 2, 8, 2, 1, 1, 4, 1, 5, 1, 5, 3, 3, 5, 3, 1, 1, 5, 6, 1, 6, 1, 4, 1, 3, 1, 6, 3, 2, 3, 3, 4, 2, 3, 5, 3, 2, 2, 3, 5, 1, 1, 6, 4, 8, 3, 2, 3, 2, 5, 3, 7, 2, 2, 3, 3, 2, 5, 3, 1, 4, 1, 5, 4, 1, 3, 2, 1, 4, 5, 2, 4, 2, 2, 3, 3, 6, 1, 1, 4, 13, 6, 8, 2, 3, 4, 6, 1, 4, 7, 3, 1, 2, 3, 3, 6, 2, 6, 3, 2, 1, 1, 5, 5, 2, 3, 1, 3, 4, 6, 11, 9, 1, 4, 10, 3, 2, 4, 5, 6, 7, 1, 2, 2, 1, 2, 4, 1, 1, 4, 1, 2, 6, 1, 3, 1, 2, 1, 2, 1, 1, 2, 3, 1, 2, 1, 2, 5, 2, 3, 7, 4, 4, 2, 2, 6, 2, 2, 2, 1, 2, 1, 1, 2, 6, 2, 7, 1, 3, 5, 6, 2, 5, 3, 6, 2, 2, 1, 1, 1, 6, 9, 2, 2, 5, 2, 4, 1, 1, 3, 5, 2, 2, 4, 2, 4, 6, 1, 6, 1, 3, 3, 6, 3, 2, 1, 3, 2, 2, 6, 1, 5, 1, 2, 3, 5, 4, 2, 2, 1, 4, 3, 8, 1, 1, 3, 5, 6, 6, 5, 2, 6, 4, 4, 2, 2, 1, 1, 1, 1, 2, 6, 1, 2, 1, 3, 2, 4, 3, 2, 3, 2, 1, 4, 5, 1, 1, 3, 2, 1, 4, 2, 2, 1, 2, 1, 5, 5, 3, 6, 5, 2, 5, 8, 2, 3, 2, 3, 5, 1, 2, 2, 1, 3, 3, 2, 2, 3, 3, 1, 4, 2, 2, 3, 2, 2, 6, 1, 2, 6, 3, 2, 2, 2, 1, 5, 2, 1, 1, 3, 2, 6, 2, 1, 1, 3, 1, 2, 4, 1, 4, 2, 2, 5, 2, 3, 2, 3, 1, 3, 3, 1, 2, 1, 5, 3, 2, 1, 6, 1, 1, 5, 2, 3, 2, 7, 4, 2, 1, 1, 4, 2, 1, 1, 4, 16, 3, 8, 3, 2, 5, 1, 2, 6, 2, 6, 5, 4, 2, 2, 2, 4, 5, 2, 15, 2, 2, 3, 6, 1, 3, 2, 3, 3, 2, 2, 6, 9, 1, 5, 2, 1, 3, 1, 6, 5, 1, 4, 1, 2, 2, 2, 2, 2, 3, 5, 3, 2, 1, 2, 1, 5, 4, 1, 3, 5, 1, 2, 5, 5, 2, 1, 3, 5, 1, 4, 13, 2, 1, 2, 1, 1, 3, 1, 4, 4, 1, 3, 6, 3, 1, 5, 6, 2, 1, 1, 3, 5, 1, 3, 2, 3, 2, 5, 3, 2, 1, 6, 2, 1, 4, 5, 2, 2, 3, 1, 5, 3, 1, 5, 3, 4, 6, 2, 3, 6, 4, 2, 2, 4, 4, 4, 3, 1, 3, 6, 3, 1, 6, 1, 1, 1, 6, 3, 6, 1, 5, 1, 2, 2, 1, 6, 1, 3, 6, 1, 7, 2, 3, 6, 3, 3, 3, 1, 6, 8, 2, 2, 5, 3, 3, 2, 4, 1, 4, 6, 2, 2, 2, 2, 6, 4, 3, 2, 1, 7, 7, 1, 2, 1, 5, 1, 2, 6, 9, 2, 4, 8, 1, 5, 2, 4, 2, 4, 4, 3, 4, 5, 4, 2, 4, 3, 1, 6, 4, 2, 9, 1, 2, 3, 4, 4, 1, 2, 3, 2, 6, 1, 1, 5, 1, 4, 1, 2, 2, 2, 4, 3, 2, 3, 3, 2, 1, 2, 6, 2, 1, 2, 4, 2, 1, 1, 4, 9, 2, 2, 1, 2, 4, 5, 2, 1, 1, 1, 6, 4, 2, 6, 1, 1, 6, 3, 4, 6, 2, 2, 1, 1, 1, 2, 2, 1, 5, 11, 2, 3, 3, 1, 2, 1, 6, 3, 9, 6, 3, 1, 3, 2, 1, 4, 6, 1, 4, 1]}, {\"marker\": {\"color\": \"green\", \"line\": {\"width\": 1}, \"opacity\": 0.5, \"size\": 9}, \"mode\": \"markers\", \"name\": \"Mid\", \"type\": \"scatter\", \"x\": [259, 251, 255, 254, 233, 280, 235, 270, 234, 241, 269, 219, 273, 267, 259, 274, 243, 266, 253, 271, 273, 270, 271, 265, 275, 220, 260, 254, 275, 265, 234, 275, 280, 243, 279, 260, 266, 270, 266, 260, 239, 238, 232, 253, 257, 227, 274, 254, 253, 274, 260, 280, 276, 274, 268, 281, 247, 225, 258, 277, 239, 249, 139, 274, 265, 275, 238, 273, 224, 258, 268, 246, 237, 275, 260, 264, 273, 227, 273, 234, 267, 281, 272, 112, 267, 99, 222, 274, 258, 268, 265, 221, 265, 120, 264, 262, 219, 261, 275, 223, 256, 263, 147, 280, 274, 281, 249, 265, 266, 257, 259, 222, 272, 260, 266, 278, 231, 269, 271, 253, 277, 226, 242, 263, 256, 249, 241, 246, 271, 256, 279, 261, 263, 245, 256, 231, 267, 279, 224, 253, 266, 228, 250, 231, 254, 92, 251, 113, 235, 238, 276, 258, 258, 221, 270, 256, 224, 274, 261, 227, 268, 231, 275, 269, 98, 275, 273, 270, 254, 278, 237, 275, 229, 254, 220, 267, 274, 233, 251, 269, 269, 252, 245, 232, 260, 251, 269, 142, 258, 245, 260, 230, 261, 112, 88, 260, 234, 273, 263, 279, 266, 260, 267, 274, 225, 235, 277, 254, 257, 253, 270, 247, 273, 224, 258, 272, 266, 272, 244, 272, 267, 268, 272, 273, 266, 149, 220, 274, 258, 244, 262, 244, 241, 230, 253, 273, 268, 248, 249, 278, 252, 269, 241, 259, 254, 278, 278, 264, 236, 262, 271, 280, 118, 242, 257, 242, 223, 275, 244, 279, 276, 266, 273, 211, 244, 234, 267], \"y\": [9, 8, 7, 12, 9, 26, 8, 16, 8, 7, 11, 7, 7, 9, 8, 15, 8, 7, 7, 17, 12, 11, 17, 13, 14, 7, 7, 7, 9, 16, 8, 24, 50, 14, 9, 10, 19, 15, 24, 9, 12, 7, 16, 17, 8, 7, 20, 7, 11, 14, 8, 7, 19, 12, 16, 29, 11, 8, 28, 14, 7, 15, 8, 7, 33, 11, 8, 23, 7, 9, 10, 11, 9, 17, 11, 13, 8, 11, 10, 7, 8, 25, 14, 7, 12, 7, 9, 11, 8, 10, 7, 7, 7, 9, 9, 8, 7, 7, 44, 13, 13, 14, 7, 66, 16, 15, 8, 9, 8, 11, 14, 7, 13, 7, 9, 11, 9, 8, 19, 7, 33, 10, 11, 19, 7, 13, 37, 16, 9, 12, 13, 8, 7, 14, 8, 14, 15, 13, 7, 7, 9, 8, 12, 8, 15, 7, 10, 8, 7, 11, 14, 9, 15, 7, 15, 11, 13, 11, 13, 29, 14, 12, 16, 7, 8, 9, 8, 8, 7, 12, 8, 8, 10, 10, 12, 22, 16, 9, 9, 9, 14, 9, 13, 13, 11, 11, 11, 15, 10, 7, 16, 13, 15, 10, 7, 23, 10, 12, 13, 15, 13, 8, 7, 14, 8, 8, 15, 13, 26, 7, 7, 9, 17, 7, 18, 7, 12, 11, 9, 9, 28, 19, 9, 10, 11, 14, 8, 14, 19, 9, 7, 8, 25, 7, 8, 14, 8, 8, 27, 10, 10, 14, 7, 7, 11, 18, 19, 7, 16, 14, 10, 13, 11, 8, 9, 10, 22, 38, 20, 37, 13, 12, 24, 9, 29, 7, 12]}, {\"marker\": {\"color\": \"red\", \"line\": {\"width\": 1}, \"opacity\": 0.9, \"size\": 11}, \"mode\": \"markers\", \"name\": \"High\", \"type\": \"scatter\", \"x\": [282, 270, 282], \"y\": [72, 53, 76]}],\n",
              "                        {\"template\": {\"data\": {\"bar\": [{\"error_x\": {\"color\": \"#2a3f5f\"}, \"error_y\": {\"color\": \"#2a3f5f\"}, \"marker\": {\"line\": {\"color\": \"#E5ECF6\", \"width\": 0.5}}, \"type\": \"bar\"}], \"barpolar\": [{\"marker\": {\"line\": {\"color\": \"#E5ECF6\", \"width\": 0.5}}, \"type\": \"barpolar\"}], \"carpet\": [{\"aaxis\": {\"endlinecolor\": \"#2a3f5f\", \"gridcolor\": \"white\", \"linecolor\": \"white\", \"minorgridcolor\": \"white\", \"startlinecolor\": \"#2a3f5f\"}, \"baxis\": {\"endlinecolor\": \"#2a3f5f\", \"gridcolor\": \"white\", \"linecolor\": \"white\", \"minorgridcolor\": \"white\", \"startlinecolor\": \"#2a3f5f\"}, \"type\": \"carpet\"}], \"choropleth\": [{\"colorbar\": {\"outlinewidth\": 0, \"ticks\": \"\"}, \"type\": \"choropleth\"}], \"contour\": [{\"colorbar\": {\"outlinewidth\": 0, \"ticks\": \"\"}, \"colorscale\": [[0.0, \"#0d0887\"], [0.1111111111111111, \"#46039f\"], [0.2222222222222222, \"#7201a8\"], [0.3333333333333333, \"#9c179e\"], [0.4444444444444444, \"#bd3786\"], [0.5555555555555556, \"#d8576b\"], [0.6666666666666666, \"#ed7953\"], [0.7777777777777778, \"#fb9f3a\"], [0.8888888888888888, \"#fdca26\"], [1.0, \"#f0f921\"]], \"type\": \"contour\"}], \"contourcarpet\": [{\"colorbar\": {\"outlinewidth\": 0, \"ticks\": \"\"}, \"type\": \"contourcarpet\"}], \"heatmap\": [{\"colorbar\": {\"outlinewidth\": 0, \"ticks\": \"\"}, \"colorscale\": [[0.0, \"#0d0887\"], [0.1111111111111111, \"#46039f\"], [0.2222222222222222, \"#7201a8\"], [0.3333333333333333, \"#9c179e\"], [0.4444444444444444, \"#bd3786\"], [0.5555555555555556, \"#d8576b\"], [0.6666666666666666, \"#ed7953\"], [0.7777777777777778, \"#fb9f3a\"], [0.8888888888888888, \"#fdca26\"], [1.0, \"#f0f921\"]], \"type\": \"heatmap\"}], \"heatmapgl\": [{\"colorbar\": {\"outlinewidth\": 0, \"ticks\": \"\"}, \"colorscale\": [[0.0, \"#0d0887\"], [0.1111111111111111, \"#46039f\"], [0.2222222222222222, \"#7201a8\"], [0.3333333333333333, \"#9c179e\"], [0.4444444444444444, \"#bd3786\"], [0.5555555555555556, \"#d8576b\"], [0.6666666666666666, \"#ed7953\"], [0.7777777777777778, \"#fb9f3a\"], [0.8888888888888888, \"#fdca26\"], [1.0, \"#f0f921\"]], \"type\": \"heatmapgl\"}], \"histogram\": [{\"marker\": {\"colorbar\": {\"outlinewidth\": 0, \"ticks\": \"\"}}, \"type\": \"histogram\"}], \"histogram2d\": [{\"colorbar\": {\"outlinewidth\": 0, \"ticks\": \"\"}, \"colorscale\": [[0.0, \"#0d0887\"], [0.1111111111111111, \"#46039f\"], [0.2222222222222222, \"#7201a8\"], [0.3333333333333333, \"#9c179e\"], [0.4444444444444444, \"#bd3786\"], [0.5555555555555556, \"#d8576b\"], [0.6666666666666666, \"#ed7953\"], [0.7777777777777778, \"#fb9f3a\"], [0.8888888888888888, \"#fdca26\"], [1.0, \"#f0f921\"]], \"type\": \"histogram2d\"}], \"histogram2dcontour\": [{\"colorbar\": {\"outlinewidth\": 0, \"ticks\": \"\"}, \"colorscale\": [[0.0, \"#0d0887\"], [0.1111111111111111, \"#46039f\"], [0.2222222222222222, \"#7201a8\"], [0.3333333333333333, \"#9c179e\"], [0.4444444444444444, \"#bd3786\"], [0.5555555555555556, \"#d8576b\"], [0.6666666666666666, \"#ed7953\"], [0.7777777777777778, \"#fb9f3a\"], [0.8888888888888888, \"#fdca26\"], [1.0, \"#f0f921\"]], \"type\": \"histogram2dcontour\"}], \"mesh3d\": [{\"colorbar\": {\"outlinewidth\": 0, \"ticks\": \"\"}, \"type\": \"mesh3d\"}], \"parcoords\": [{\"line\": {\"colorbar\": {\"outlinewidth\": 0, \"ticks\": \"\"}}, \"type\": \"parcoords\"}], \"pie\": [{\"automargin\": true, \"type\": \"pie\"}], \"scatter\": [{\"marker\": {\"colorbar\": {\"outlinewidth\": 0, \"ticks\": \"\"}}, \"type\": \"scatter\"}], \"scatter3d\": [{\"line\": {\"colorbar\": {\"outlinewidth\": 0, \"ticks\": \"\"}}, \"marker\": {\"colorbar\": {\"outlinewidth\": 0, \"ticks\": \"\"}}, \"type\": \"scatter3d\"}], \"scattercarpet\": [{\"marker\": {\"colorbar\": {\"outlinewidth\": 0, \"ticks\": \"\"}}, \"type\": \"scattercarpet\"}], \"scattergeo\": [{\"marker\": {\"colorbar\": {\"outlinewidth\": 0, \"ticks\": \"\"}}, \"type\": \"scattergeo\"}], \"scattergl\": [{\"marker\": {\"colorbar\": {\"outlinewidth\": 0, \"ticks\": \"\"}}, \"type\": \"scattergl\"}], \"scattermapbox\": [{\"marker\": {\"colorbar\": {\"outlinewidth\": 0, \"ticks\": \"\"}}, \"type\": \"scattermapbox\"}], \"scatterpolar\": [{\"marker\": {\"colorbar\": {\"outlinewidth\": 0, \"ticks\": \"\"}}, \"type\": \"scatterpolar\"}], \"scatterpolargl\": [{\"marker\": {\"colorbar\": {\"outlinewidth\": 0, \"ticks\": \"\"}}, \"type\": \"scatterpolargl\"}], \"scatterternary\": [{\"marker\": {\"colorbar\": {\"outlinewidth\": 0, \"ticks\": \"\"}}, \"type\": \"scatterternary\"}], \"surface\": [{\"colorbar\": {\"outlinewidth\": 0, \"ticks\": \"\"}, \"colorscale\": [[0.0, \"#0d0887\"], [0.1111111111111111, \"#46039f\"], [0.2222222222222222, \"#7201a8\"], [0.3333333333333333, \"#9c179e\"], [0.4444444444444444, \"#bd3786\"], [0.5555555555555556, \"#d8576b\"], [0.6666666666666666, \"#ed7953\"], [0.7777777777777778, \"#fb9f3a\"], [0.8888888888888888, \"#fdca26\"], [1.0, \"#f0f921\"]], \"type\": \"surface\"}], \"table\": [{\"cells\": {\"fill\": {\"color\": \"#EBF0F8\"}, \"line\": {\"color\": \"white\"}}, \"header\": {\"fill\": {\"color\": \"#C8D4E3\"}, \"line\": {\"color\": \"white\"}}, \"type\": \"table\"}]}, \"layout\": {\"annotationdefaults\": {\"arrowcolor\": \"#2a3f5f\", \"arrowhead\": 0, \"arrowwidth\": 1}, \"coloraxis\": {\"colorbar\": {\"outlinewidth\": 0, \"ticks\": \"\"}}, \"colorscale\": {\"diverging\": [[0, \"#8e0152\"], [0.1, \"#c51b7d\"], [0.2, \"#de77ae\"], [0.3, \"#f1b6da\"], [0.4, \"#fde0ef\"], [0.5, \"#f7f7f7\"], [0.6, \"#e6f5d0\"], [0.7, \"#b8e186\"], [0.8, \"#7fbc41\"], [0.9, \"#4d9221\"], [1, \"#276419\"]], \"sequential\": [[0.0, \"#0d0887\"], [0.1111111111111111, \"#46039f\"], [0.2222222222222222, \"#7201a8\"], [0.3333333333333333, \"#9c179e\"], [0.4444444444444444, \"#bd3786\"], [0.5555555555555556, \"#d8576b\"], [0.6666666666666666, \"#ed7953\"], [0.7777777777777778, \"#fb9f3a\"], [0.8888888888888888, \"#fdca26\"], [1.0, \"#f0f921\"]], \"sequentialminus\": [[0.0, \"#0d0887\"], [0.1111111111111111, \"#46039f\"], [0.2222222222222222, \"#7201a8\"], [0.3333333333333333, \"#9c179e\"], [0.4444444444444444, \"#bd3786\"], [0.5555555555555556, \"#d8576b\"], [0.6666666666666666, \"#ed7953\"], [0.7777777777777778, \"#fb9f3a\"], [0.8888888888888888, \"#fdca26\"], [1.0, \"#f0f921\"]]}, \"colorway\": [\"#636efa\", \"#EF553B\", \"#00cc96\", \"#ab63fa\", \"#FFA15A\", \"#19d3f3\", \"#FF6692\", \"#B6E880\", \"#FF97FF\", \"#FECB52\"], \"font\": {\"color\": \"#2a3f5f\"}, \"geo\": {\"bgcolor\": \"white\", \"lakecolor\": \"white\", \"landcolor\": \"#E5ECF6\", \"showlakes\": true, \"showland\": true, \"subunitcolor\": \"white\"}, \"hoverlabel\": {\"align\": \"left\"}, \"hovermode\": \"closest\", \"mapbox\": {\"style\": \"light\"}, \"paper_bgcolor\": \"white\", \"plot_bgcolor\": \"#E5ECF6\", \"polar\": {\"angularaxis\": {\"gridcolor\": \"white\", \"linecolor\": \"white\", \"ticks\": \"\"}, \"bgcolor\": \"#E5ECF6\", \"radialaxis\": {\"gridcolor\": \"white\", \"linecolor\": \"white\", \"ticks\": \"\"}}, \"scene\": {\"xaxis\": {\"backgroundcolor\": \"#E5ECF6\", \"gridcolor\": \"white\", \"gridwidth\": 2, \"linecolor\": \"white\", \"showbackground\": true, \"ticks\": \"\", \"zerolinecolor\": \"white\"}, \"yaxis\": {\"backgroundcolor\": \"#E5ECF6\", \"gridcolor\": \"white\", \"gridwidth\": 2, \"linecolor\": \"white\", \"showbackground\": true, \"ticks\": \"\", \"zerolinecolor\": \"white\"}, \"zaxis\": {\"backgroundcolor\": \"#E5ECF6\", \"gridcolor\": \"white\", \"gridwidth\": 2, \"linecolor\": \"white\", \"showbackground\": true, \"ticks\": \"\", \"zerolinecolor\": \"white\"}}, \"shapedefaults\": {\"line\": {\"color\": \"#2a3f5f\"}}, \"ternary\": {\"aaxis\": {\"gridcolor\": \"white\", \"linecolor\": \"white\", \"ticks\": \"\"}, \"baxis\": {\"gridcolor\": \"white\", \"linecolor\": \"white\", \"ticks\": \"\"}, \"bgcolor\": \"#E5ECF6\", \"caxis\": {\"gridcolor\": \"white\", \"linecolor\": \"white\", \"ticks\": \"\"}}, \"title\": {\"x\": 0.05}, \"xaxis\": {\"automargin\": true, \"gridcolor\": \"white\", \"linecolor\": \"white\", \"ticks\": \"\", \"title\": {\"standoff\": 15}, \"zerolinecolor\": \"white\", \"zerolinewidth\": 2}, \"yaxis\": {\"automargin\": true, \"gridcolor\": \"white\", \"linecolor\": \"white\", \"ticks\": \"\", \"title\": {\"standoff\": 15}, \"zerolinecolor\": \"white\", \"zerolinewidth\": 2}}}, \"title\": {\"text\": \"Segments\"}, \"xaxis\": {\"title\": {\"text\": \"Recency\"}}, \"yaxis\": {\"title\": {\"text\": \"Frequency\"}}},\n",
              "                        {\"responsive\": true}\n",
              "                    ).then(function(){\n",
              "                            \n",
              "var gd = document.getElementById('1f536548-3ab6-4a83-a481-703925da8342');\n",
              "var x = new MutationObserver(function (mutations, observer) {{\n",
              "        var display = window.getComputedStyle(gd).display;\n",
              "        if (!display || display === 'none') {{\n",
              "            console.log([gd, 'removed!']);\n",
              "            Plotly.purge(gd);\n",
              "            observer.disconnect();\n",
              "        }}\n",
              "}});\n",
              "\n",
              "// Listen for the removal of the full notebook cells\n",
              "var notebookContainer = gd.closest('#notebook-container');\n",
              "if (notebookContainer) {{\n",
              "    x.observe(notebookContainer, {childList: true});\n",
              "}}\n",
              "\n",
              "// Listen for the clearing of the current output cell\n",
              "var outputEl = gd.closest('.output');\n",
              "if (outputEl) {{\n",
              "    x.observe(outputEl, {childList: true});\n",
              "}}\n",
              "\n",
              "                        })\n",
              "                };\n",
              "                \n",
              "            </script>\n",
              "        </div>\n",
              "</body>\n",
              "</html>"
            ]
          },
          "metadata": {
            "tags": []
          }
        }
      ]
    }
  ]
}